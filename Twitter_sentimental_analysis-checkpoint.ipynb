{
 "cells": [
  {
   "cell_type": "markdown",
   "metadata": {},
   "source": [
    "# To find the sentiment analysis based on the given statement"
   ]
  },
  {
   "cell_type": "code",
   "execution_count": 7,
   "metadata": {},
   "outputs": [],
   "source": [
    "import tweepy\n",
    "from tweepy import OAuthHandler\n",
    "import textblob\n",
    "import re"
   ]
  },
  {
   "cell_type": "code",
   "execution_count": 8,
   "metadata": {},
   "outputs": [],
   "source": [
    "import pandas as pd"
   ]
  },
  {
   "cell_type": "markdown",
   "metadata": {},
   "source": [
    "QqI5P0iZYCZbBzLoCawLrqGBu - api key\n",
    "gK6YxaKt9JbTyIsW4WPsNLDxSSsDG3PnaFyKx32WcfKwCOFCm3 - api key secret\n",
    "\n",
    "1321492346047877120-NLPSFN28WEBM5iTfWcDEVaxJlEPaPo -  acess token\n",
    "9qv72VXm0Gky954FOLQcmQyWKevCAmyyP6DB5OypDsWkm      - acess token secret"
   ]
  },
  {
   "cell_type": "code",
   "execution_count": 9,
   "metadata": {},
   "outputs": [],
   "source": [
    "api_key = 'QqI5P0iZYCZbBzLoCawLrqGBu'\n",
    "api_key_sec = 'gK6YxaKt9JbTyIsW4WPsNLDxSSsDG3PnaFyKx32WcfKwCOFCm3'\n",
    "acess_token = '1321492346047877120-NLPSFN28WEBM5iTfWcDEVaxJlEPaPo'\n",
    "acess_token_sec  = '9qv72VXm0Gky954FOLQcmQyWKevCAmyyP6DB5OypDsWkm'"
   ]
  },
  {
   "cell_type": "code",
   "execution_count": 10,
   "metadata": {},
   "outputs": [],
   "source": [
    "auth = OAuthHandler(api_key,api_key_sec)\n",
    "token = auth.set_access_token(acess_token,acess_token_sec)"
   ]
  },
  {
   "cell_type": "code",
   "execution_count": 11,
   "metadata": {},
   "outputs": [],
   "source": [
    "twee = tweepy.API(auth)"
   ]
  },
  {
   "cell_type": "code",
   "execution_count": 12,
   "metadata": {},
   "outputs": [
    {
     "name": "stdout",
     "output_type": "stream",
     "text": [
      "RCB winning IPL\n",
      "<class 'tweepy.models.SearchResults'>\n",
      "Status(_api=<tweepy.api.API object at 0x000001BD61EA1EC8>, _json={'created_at': 'Sat Oct 31 05:42:18 +0000 2020', 'id': 1322413569204318210, 'id_str': '1322413569204318210', 'full_text': 'IPL 2020, SRH Predicted XI vs RCB: Injury concerns may force Warner to change winning combination\\nhttps://t.co/zlr0lldCWb', 'truncated': False, 'display_text_range': [0, 121], 'entities': {'hashtags': [], 'symbols': [], 'user_mentions': [], 'urls': [{'url': 'https://t.co/zlr0lldCWb', 'expanded_url': 'http://www.hindustantimes.com/cricket/ipl-2020-srh-predicted-xi-vs-rcb-injury-concerns-may-force-warner-to-change-winning-combination/story-idl6EyGUb22CpOW5F5JrII.html', 'display_url': 'hindustantimes.com/cricket/ipl-20…', 'indices': [98, 121]}]}, 'metadata': {'iso_language_code': 'en', 'result_type': 'recent'}, 'source': '<a href=\"https://www.hindustantimes.com/\" rel=\"nofollow\">ht-twitter-handler</a>', 'in_reply_to_status_id': None, 'in_reply_to_status_id_str': None, 'in_reply_to_user_id': None, 'in_reply_to_user_id_str': None, 'in_reply_to_screen_name': None, 'user': {'id': 1066972567943053312, 'id_str': '1066972567943053312', 'name': 'Hindustan Times', 'screen_name': 'HindustanTimes', 'location': 'New Delhi, India', 'description': \"One of India's largest media companies. Latest news from around the world. Retweets are not endorsements.\", 'url': 'https://t.co/WtJj2BvIpU', 'entities': {'url': {'urls': [{'url': 'https://t.co/WtJj2BvIpU', 'expanded_url': 'https://www.hindustantimes.com/', 'display_url': 'hindustantimes.com', 'indices': [0, 23]}]}, 'description': {'urls': []}}, 'protected': False, 'followers_count': 26721, 'friends_count': 12, 'listed_count': 149, 'created_at': 'Mon Nov 26 08:30:58 +0000 2018', 'favourites_count': 9, 'utc_offset': None, 'time_zone': None, 'geo_enabled': False, 'verified': True, 'statuses_count': 226277, 'lang': None, 'contributors_enabled': False, 'is_translator': False, 'is_translation_enabled': False, 'profile_background_color': 'F5F8FA', 'profile_background_image_url': None, 'profile_background_image_url_https': None, 'profile_background_tile': False, 'profile_image_url': 'http://pbs.twimg.com/profile_images/1300145486469328896/K9Qophk9_normal.jpg', 'profile_image_url_https': 'https://pbs.twimg.com/profile_images/1300145486469328896/K9Qophk9_normal.jpg', 'profile_link_color': '1DA1F2', 'profile_sidebar_border_color': 'C0DEED', 'profile_sidebar_fill_color': 'DDEEF6', 'profile_text_color': '333333', 'profile_use_background_image': True, 'has_extended_profile': False, 'default_profile': True, 'default_profile_image': False, 'following': False, 'follow_request_sent': False, 'notifications': False, 'translator_type': 'none'}, 'geo': None, 'coordinates': None, 'place': None, 'contributors': None, 'is_quote_status': False, 'retweet_count': 0, 'favorite_count': 0, 'favorited': False, 'retweeted': False, 'possibly_sensitive': False, 'lang': 'en'}, created_at=datetime.datetime(2020, 10, 31, 5, 42, 18), id=1322413569204318210, id_str='1322413569204318210', full_text='IPL 2020, SRH Predicted XI vs RCB: Injury concerns may force Warner to change winning combination\\nhttps://t.co/zlr0lldCWb', truncated=False, display_text_range=[0, 121], entities={'hashtags': [], 'symbols': [], 'user_mentions': [], 'urls': [{'url': 'https://t.co/zlr0lldCWb', 'expanded_url': 'http://www.hindustantimes.com/cricket/ipl-2020-srh-predicted-xi-vs-rcb-injury-concerns-may-force-warner-to-change-winning-combination/story-idl6EyGUb22CpOW5F5JrII.html', 'display_url': 'hindustantimes.com/cricket/ipl-20…', 'indices': [98, 121]}]}, metadata={'iso_language_code': 'en', 'result_type': 'recent'}, source='ht-twitter-handler', source_url='https://www.hindustantimes.com/', in_reply_to_status_id=None, in_reply_to_status_id_str=None, in_reply_to_user_id=None, in_reply_to_user_id_str=None, in_reply_to_screen_name=None, author=User(_api=<tweepy.api.API object at 0x000001BD61EA1EC8>, _json={'id': 1066972567943053312, 'id_str': '1066972567943053312', 'name': 'Hindustan Times', 'screen_name': 'HindustanTimes', 'location': 'New Delhi, India', 'description': \"One of India's largest media companies. Latest news from around the world. Retweets are not endorsements.\", 'url': 'https://t.co/WtJj2BvIpU', 'entities': {'url': {'urls': [{'url': 'https://t.co/WtJj2BvIpU', 'expanded_url': 'https://www.hindustantimes.com/', 'display_url': 'hindustantimes.com', 'indices': [0, 23]}]}, 'description': {'urls': []}}, 'protected': False, 'followers_count': 26721, 'friends_count': 12, 'listed_count': 149, 'created_at': 'Mon Nov 26 08:30:58 +0000 2018', 'favourites_count': 9, 'utc_offset': None, 'time_zone': None, 'geo_enabled': False, 'verified': True, 'statuses_count': 226277, 'lang': None, 'contributors_enabled': False, 'is_translator': False, 'is_translation_enabled': False, 'profile_background_color': 'F5F8FA', 'profile_background_image_url': None, 'profile_background_image_url_https': None, 'profile_background_tile': False, 'profile_image_url': 'http://pbs.twimg.com/profile_images/1300145486469328896/K9Qophk9_normal.jpg', 'profile_image_url_https': 'https://pbs.twimg.com/profile_images/1300145486469328896/K9Qophk9_normal.jpg', 'profile_link_color': '1DA1F2', 'profile_sidebar_border_color': 'C0DEED', 'profile_sidebar_fill_color': 'DDEEF6', 'profile_text_color': '333333', 'profile_use_background_image': True, 'has_extended_profile': False, 'default_profile': True, 'default_profile_image': False, 'following': False, 'follow_request_sent': False, 'notifications': False, 'translator_type': 'none'}, id=1066972567943053312, id_str='1066972567943053312', name='Hindustan Times', screen_name='HindustanTimes', location='New Delhi, India', description=\"One of India's largest media companies. Latest news from around the world. Retweets are not endorsements.\", url='https://t.co/WtJj2BvIpU', entities={'url': {'urls': [{'url': 'https://t.co/WtJj2BvIpU', 'expanded_url': 'https://www.hindustantimes.com/', 'display_url': 'hindustantimes.com', 'indices': [0, 23]}]}, 'description': {'urls': []}}, protected=False, followers_count=26721, friends_count=12, listed_count=149, created_at=datetime.datetime(2018, 11, 26, 8, 30, 58), favourites_count=9, utc_offset=None, time_zone=None, geo_enabled=False, verified=True, statuses_count=226277, lang=None, contributors_enabled=False, is_translator=False, is_translation_enabled=False, profile_background_color='F5F8FA', profile_background_image_url=None, profile_background_image_url_https=None, profile_background_tile=False, profile_image_url='http://pbs.twimg.com/profile_images/1300145486469328896/K9Qophk9_normal.jpg', profile_image_url_https='https://pbs.twimg.com/profile_images/1300145486469328896/K9Qophk9_normal.jpg', profile_link_color='1DA1F2', profile_sidebar_border_color='C0DEED', profile_sidebar_fill_color='DDEEF6', profile_text_color='333333', profile_use_background_image=True, has_extended_profile=False, default_profile=True, default_profile_image=False, following=False, follow_request_sent=False, notifications=False, translator_type='none'), user=User(_api=<tweepy.api.API object at 0x000001BD61EA1EC8>, _json={'id': 1066972567943053312, 'id_str': '1066972567943053312', 'name': 'Hindustan Times', 'screen_name': 'HindustanTimes', 'location': 'New Delhi, India', 'description': \"One of India's largest media companies. Latest news from around the world. Retweets are not endorsements.\", 'url': 'https://t.co/WtJj2BvIpU', 'entities': {'url': {'urls': [{'url': 'https://t.co/WtJj2BvIpU', 'expanded_url': 'https://www.hindustantimes.com/', 'display_url': 'hindustantimes.com', 'indices': [0, 23]}]}, 'description': {'urls': []}}, 'protected': False, 'followers_count': 26721, 'friends_count': 12, 'listed_count': 149, 'created_at': 'Mon Nov 26 08:30:58 +0000 2018', 'favourites_count': 9, 'utc_offset': None, 'time_zone': None, 'geo_enabled': False, 'verified': True, 'statuses_count': 226277, 'lang': None, 'contributors_enabled': False, 'is_translator': False, 'is_translation_enabled': False, 'profile_background_color': 'F5F8FA', 'profile_background_image_url': None, 'profile_background_image_url_https': None, 'profile_background_tile': False, 'profile_image_url': 'http://pbs.twimg.com/profile_images/1300145486469328896/K9Qophk9_normal.jpg', 'profile_image_url_https': 'https://pbs.twimg.com/profile_images/1300145486469328896/K9Qophk9_normal.jpg', 'profile_link_color': '1DA1F2', 'profile_sidebar_border_color': 'C0DEED', 'profile_sidebar_fill_color': 'DDEEF6', 'profile_text_color': '333333', 'profile_use_background_image': True, 'has_extended_profile': False, 'default_profile': True, 'default_profile_image': False, 'following': False, 'follow_request_sent': False, 'notifications': False, 'translator_type': 'none'}, id=1066972567943053312, id_str='1066972567943053312', name='Hindustan Times', screen_name='HindustanTimes', location='New Delhi, India', description=\"One of India's largest media companies. Latest news from around the world. Retweets are not endorsements.\", url='https://t.co/WtJj2BvIpU', entities={'url': {'urls': [{'url': 'https://t.co/WtJj2BvIpU', 'expanded_url': 'https://www.hindustantimes.com/', 'display_url': 'hindustantimes.com', 'indices': [0, 23]}]}, 'description': {'urls': []}}, protected=False, followers_count=26721, friends_count=12, listed_count=149, created_at=datetime.datetime(2018, 11, 26, 8, 30, 58), favourites_count=9, utc_offset=None, time_zone=None, geo_enabled=False, verified=True, statuses_count=226277, lang=None, contributors_enabled=False, is_translator=False, is_translation_enabled=False, profile_background_color='F5F8FA', profile_background_image_url=None, profile_background_image_url_https=None, profile_background_tile=False, profile_image_url='http://pbs.twimg.com/profile_images/1300145486469328896/K9Qophk9_normal.jpg', profile_image_url_https='https://pbs.twimg.com/profile_images/1300145486469328896/K9Qophk9_normal.jpg', profile_link_color='1DA1F2', profile_sidebar_border_color='C0DEED', profile_sidebar_fill_color='DDEEF6', profile_text_color='333333', profile_use_background_image=True, has_extended_profile=False, default_profile=True, default_profile_image=False, following=False, follow_request_sent=False, notifications=False, translator_type='none'), geo=None, coordinates=None, place=None, contributors=None, is_quote_status=False, retweet_count=0, favorite_count=0, favorited=False, retweeted=False, possibly_sensitive=False, lang='en') \n",
      "\n",
      "-----------------------------\n",
      "\n",
      "Status(_api=<tweepy.api.API object at 0x000001BD61EA1EC8>, _json={'created_at': 'Sat Oct 31 04:53:16 +0000 2020', 'id': 1322401227309682689, 'id_str': '1322401227309682689', 'full_text': \"@gm10_g @RCBTweets It's just because RCB was playing good early in the tournament and they don't want to disturb winning combinations. Otherwise you know they change three members every match before IPL 2020.\", 'truncated': False, 'display_text_range': [19, 208], 'entities': {'hashtags': [], 'symbols': [], 'user_mentions': [{'screen_name': 'gm10_g', 'name': 'Sandeep G M', 'id': 1219096711139741696, 'id_str': '1219096711139741696', 'indices': [0, 7]}, {'screen_name': 'RCBTweets', 'name': 'Royal Challengers Bangalore', 'id': 70931004, 'id_str': '70931004', 'indices': [8, 18]}], 'urls': []}, 'metadata': {'iso_language_code': 'en', 'result_type': 'recent'}, 'source': '<a href=\"https://mobile.twitter.com\" rel=\"nofollow\">Twitter Web App</a>', 'in_reply_to_status_id': 1322399904371650561, 'in_reply_to_status_id_str': '1322399904371650561', 'in_reply_to_user_id': 1219096711139741696, 'in_reply_to_user_id_str': '1219096711139741696', 'in_reply_to_screen_name': 'gm10_g', 'user': {'id': 1161802683923042305, 'id_str': '1161802683923042305', 'name': 'Tan', 'screen_name': 'Tan75947111', 'location': '', 'description': '', 'url': None, 'entities': {'description': {'urls': []}}, 'protected': False, 'followers_count': 0, 'friends_count': 3, 'listed_count': 0, 'created_at': 'Thu Aug 15 00:51:59 +0000 2019', 'favourites_count': 17, 'utc_offset': None, 'time_zone': None, 'geo_enabled': False, 'verified': False, 'statuses_count': 121, 'lang': None, 'contributors_enabled': False, 'is_translator': False, 'is_translation_enabled': False, 'profile_background_color': 'F5F8FA', 'profile_background_image_url': None, 'profile_background_image_url_https': None, 'profile_background_tile': False, 'profile_image_url': 'http://abs.twimg.com/sticky/default_profile_images/default_profile_normal.png', 'profile_image_url_https': 'https://abs.twimg.com/sticky/default_profile_images/default_profile_normal.png', 'profile_link_color': '1DA1F2', 'profile_sidebar_border_color': 'C0DEED', 'profile_sidebar_fill_color': 'DDEEF6', 'profile_text_color': '333333', 'profile_use_background_image': True, 'has_extended_profile': False, 'default_profile': True, 'default_profile_image': True, 'following': False, 'follow_request_sent': False, 'notifications': False, 'translator_type': 'none'}, 'geo': None, 'coordinates': None, 'place': None, 'contributors': None, 'is_quote_status': False, 'retweet_count': 0, 'favorite_count': 3, 'favorited': False, 'retweeted': False, 'lang': 'en'}, created_at=datetime.datetime(2020, 10, 31, 4, 53, 16), id=1322401227309682689, id_str='1322401227309682689', full_text=\"@gm10_g @RCBTweets It's just because RCB was playing good early in the tournament and they don't want to disturb winning combinations. Otherwise you know they change three members every match before IPL 2020.\", truncated=False, display_text_range=[19, 208], entities={'hashtags': [], 'symbols': [], 'user_mentions': [{'screen_name': 'gm10_g', 'name': 'Sandeep G M', 'id': 1219096711139741696, 'id_str': '1219096711139741696', 'indices': [0, 7]}, {'screen_name': 'RCBTweets', 'name': 'Royal Challengers Bangalore', 'id': 70931004, 'id_str': '70931004', 'indices': [8, 18]}], 'urls': []}, metadata={'iso_language_code': 'en', 'result_type': 'recent'}, source='Twitter Web App', source_url='https://mobile.twitter.com', in_reply_to_status_id=1322399904371650561, in_reply_to_status_id_str='1322399904371650561', in_reply_to_user_id=1219096711139741696, in_reply_to_user_id_str='1219096711139741696', in_reply_to_screen_name='gm10_g', author=User(_api=<tweepy.api.API object at 0x000001BD61EA1EC8>, _json={'id': 1161802683923042305, 'id_str': '1161802683923042305', 'name': 'Tan', 'screen_name': 'Tan75947111', 'location': '', 'description': '', 'url': None, 'entities': {'description': {'urls': []}}, 'protected': False, 'followers_count': 0, 'friends_count': 3, 'listed_count': 0, 'created_at': 'Thu Aug 15 00:51:59 +0000 2019', 'favourites_count': 17, 'utc_offset': None, 'time_zone': None, 'geo_enabled': False, 'verified': False, 'statuses_count': 121, 'lang': None, 'contributors_enabled': False, 'is_translator': False, 'is_translation_enabled': False, 'profile_background_color': 'F5F8FA', 'profile_background_image_url': None, 'profile_background_image_url_https': None, 'profile_background_tile': False, 'profile_image_url': 'http://abs.twimg.com/sticky/default_profile_images/default_profile_normal.png', 'profile_image_url_https': 'https://abs.twimg.com/sticky/default_profile_images/default_profile_normal.png', 'profile_link_color': '1DA1F2', 'profile_sidebar_border_color': 'C0DEED', 'profile_sidebar_fill_color': 'DDEEF6', 'profile_text_color': '333333', 'profile_use_background_image': True, 'has_extended_profile': False, 'default_profile': True, 'default_profile_image': True, 'following': False, 'follow_request_sent': False, 'notifications': False, 'translator_type': 'none'}, id=1161802683923042305, id_str='1161802683923042305', name='Tan', screen_name='Tan75947111', location='', description='', url=None, entities={'description': {'urls': []}}, protected=False, followers_count=0, friends_count=3, listed_count=0, created_at=datetime.datetime(2019, 8, 15, 0, 51, 59), favourites_count=17, utc_offset=None, time_zone=None, geo_enabled=False, verified=False, statuses_count=121, lang=None, contributors_enabled=False, is_translator=False, is_translation_enabled=False, profile_background_color='F5F8FA', profile_background_image_url=None, profile_background_image_url_https=None, profile_background_tile=False, profile_image_url='http://abs.twimg.com/sticky/default_profile_images/default_profile_normal.png', profile_image_url_https='https://abs.twimg.com/sticky/default_profile_images/default_profile_normal.png', profile_link_color='1DA1F2', profile_sidebar_border_color='C0DEED', profile_sidebar_fill_color='DDEEF6', profile_text_color='333333', profile_use_background_image=True, has_extended_profile=False, default_profile=True, default_profile_image=True, following=False, follow_request_sent=False, notifications=False, translator_type='none'), user=User(_api=<tweepy.api.API object at 0x000001BD61EA1EC8>, _json={'id': 1161802683923042305, 'id_str': '1161802683923042305', 'name': 'Tan', 'screen_name': 'Tan75947111', 'location': '', 'description': '', 'url': None, 'entities': {'description': {'urls': []}}, 'protected': False, 'followers_count': 0, 'friends_count': 3, 'listed_count': 0, 'created_at': 'Thu Aug 15 00:51:59 +0000 2019', 'favourites_count': 17, 'utc_offset': None, 'time_zone': None, 'geo_enabled': False, 'verified': False, 'statuses_count': 121, 'lang': None, 'contributors_enabled': False, 'is_translator': False, 'is_translation_enabled': False, 'profile_background_color': 'F5F8FA', 'profile_background_image_url': None, 'profile_background_image_url_https': None, 'profile_background_tile': False, 'profile_image_url': 'http://abs.twimg.com/sticky/default_profile_images/default_profile_normal.png', 'profile_image_url_https': 'https://abs.twimg.com/sticky/default_profile_images/default_profile_normal.png', 'profile_link_color': '1DA1F2', 'profile_sidebar_border_color': 'C0DEED', 'profile_sidebar_fill_color': 'DDEEF6', 'profile_text_color': '333333', 'profile_use_background_image': True, 'has_extended_profile': False, 'default_profile': True, 'default_profile_image': True, 'following': False, 'follow_request_sent': False, 'notifications': False, 'translator_type': 'none'}, id=1161802683923042305, id_str='1161802683923042305', name='Tan', screen_name='Tan75947111', location='', description='', url=None, entities={'description': {'urls': []}}, protected=False, followers_count=0, friends_count=3, listed_count=0, created_at=datetime.datetime(2019, 8, 15, 0, 51, 59), favourites_count=17, utc_offset=None, time_zone=None, geo_enabled=False, verified=False, statuses_count=121, lang=None, contributors_enabled=False, is_translator=False, is_translation_enabled=False, profile_background_color='F5F8FA', profile_background_image_url=None, profile_background_image_url_https=None, profile_background_tile=False, profile_image_url='http://abs.twimg.com/sticky/default_profile_images/default_profile_normal.png', profile_image_url_https='https://abs.twimg.com/sticky/default_profile_images/default_profile_normal.png', profile_link_color='1DA1F2', profile_sidebar_border_color='C0DEED', profile_sidebar_fill_color='DDEEF6', profile_text_color='333333', profile_use_background_image=True, has_extended_profile=False, default_profile=True, default_profile_image=True, following=False, follow_request_sent=False, notifications=False, translator_type='none'), geo=None, coordinates=None, place=None, contributors=None, is_quote_status=False, retweet_count=0, favorite_count=3, favorited=False, retweeted=False, lang='en') \n",
      "\n",
      "-----------------------------\n",
      "\n",
      "Status(_api=<tweepy.api.API object at 0x000001BD61EA1EC8>, _json={'created_at': 'Sat Oct 31 04:21:02 +0000 2020', 'id': 1322393115387482112, 'id_str': '1322393115387482112', 'full_text': \"Bhai jabardasti script banake interesting banayege toh aisa hi hoga 😂😂. \\nKoi IPL season aisa nhi tha jo interesting na ho. Because it's scripted. \\nAnyway, RCB is winning this season as per script. Take SS. https://t.co/1YgCtN6l2G\", 'truncated': False, 'display_text_range': [0, 205], 'entities': {'hashtags': [], 'symbols': [], 'user_mentions': [], 'urls': [{'url': 'https://t.co/1YgCtN6l2G', 'expanded_url': 'https://twitter.com/LazyySaket/status/1322390630971047936', 'display_url': 'twitter.com/LazyySaket/sta…', 'indices': [206, 229]}]}, 'metadata': {'iso_language_code': 'en', 'result_type': 'recent'}, 'source': '<a href=\"http://twitter.com/download/android\" rel=\"nofollow\">Twitter for Android</a>', 'in_reply_to_status_id': None, 'in_reply_to_status_id_str': None, 'in_reply_to_user_id': None, 'in_reply_to_user_id_str': None, 'in_reply_to_screen_name': None, 'user': {'id': 1035209573026684928, 'id_str': '1035209573026684928', 'name': '💰', 'screen_name': 'Epigrammatist_', 'location': 'Mumbai, India', 'description': '20. CA Final Student.', 'url': None, 'entities': {'description': {'urls': []}}, 'protected': False, 'followers_count': 6081, 'friends_count': 142, 'listed_count': 1, 'created_at': 'Thu Aug 30 16:56:10 +0000 2018', 'favourites_count': 50667, 'utc_offset': None, 'time_zone': None, 'geo_enabled': False, 'verified': False, 'statuses_count': 27104, 'lang': None, 'contributors_enabled': False, 'is_translator': False, 'is_translation_enabled': False, 'profile_background_color': 'F5F8FA', 'profile_background_image_url': None, 'profile_background_image_url_https': None, 'profile_background_tile': False, 'profile_image_url': 'http://pbs.twimg.com/profile_images/1322235532236083201/eE2tfwrb_normal.jpg', 'profile_image_url_https': 'https://pbs.twimg.com/profile_images/1322235532236083201/eE2tfwrb_normal.jpg', 'profile_banner_url': 'https://pbs.twimg.com/profile_banners/1035209573026684928/1604080490', 'profile_link_color': '1DA1F2', 'profile_sidebar_border_color': 'C0DEED', 'profile_sidebar_fill_color': 'DDEEF6', 'profile_text_color': '333333', 'profile_use_background_image': True, 'has_extended_profile': False, 'default_profile': True, 'default_profile_image': False, 'following': False, 'follow_request_sent': False, 'notifications': False, 'translator_type': 'none'}, 'geo': None, 'coordinates': None, 'place': None, 'contributors': None, 'is_quote_status': True, 'quoted_status_id': 1322390630971047936, 'quoted_status_id_str': '1322390630971047936', 'quoted_status': {'created_at': 'Sat Oct 31 04:11:09 +0000 2020', 'id': 1322390630971047936, 'id_str': '1322390630971047936', 'full_text': 'Thats why @IPL is the best T20 league in the world\\n\\nGame is still open for all the team except #CSK \\n#IPL2020 https://t.co/s6m5PuNaw6', 'truncated': False, 'display_text_range': [0, 109], 'entities': {'hashtags': [{'text': 'CSK', 'indices': [95, 99]}, {'text': 'IPL2020', 'indices': [101, 109]}], 'symbols': [], 'user_mentions': [{'screen_name': 'IPL', 'name': 'IndianPremierLeague', 'id': 15639696, 'id_str': '15639696', 'indices': [10, 14]}], 'urls': [], 'media': [{'id': 1322390592739946496, 'id_str': '1322390592739946496', 'indices': [110, 133], 'media_url': 'http://pbs.twimg.com/media/EloTPN6VMAA0gMX.jpg', 'media_url_https': 'https://pbs.twimg.com/media/EloTPN6VMAA0gMX.jpg', 'url': 'https://t.co/s6m5PuNaw6', 'display_url': 'pic.twitter.com/s6m5PuNaw6', 'expanded_url': 'https://twitter.com/LazyySaket/status/1322390630971047936/photo/1', 'type': 'photo', 'sizes': {'medium': {'w': 869, 'h': 1200, 'resize': 'fit'}, 'thumb': {'w': 150, 'h': 150, 'resize': 'crop'}, 'large': {'w': 1080, 'h': 1492, 'resize': 'fit'}, 'small': {'w': 492, 'h': 680, 'resize': 'fit'}}}]}, 'extended_entities': {'media': [{'id': 1322390592739946496, 'id_str': '1322390592739946496', 'indices': [110, 133], 'media_url': 'http://pbs.twimg.com/media/EloTPN6VMAA0gMX.jpg', 'media_url_https': 'https://pbs.twimg.com/media/EloTPN6VMAA0gMX.jpg', 'url': 'https://t.co/s6m5PuNaw6', 'display_url': 'pic.twitter.com/s6m5PuNaw6', 'expanded_url': 'https://twitter.com/LazyySaket/status/1322390630971047936/photo/1', 'type': 'photo', 'sizes': {'medium': {'w': 869, 'h': 1200, 'resize': 'fit'}, 'thumb': {'w': 150, 'h': 150, 'resize': 'crop'}, 'large': {'w': 1080, 'h': 1492, 'resize': 'fit'}, 'small': {'w': 492, 'h': 680, 'resize': 'fit'}}}, {'id': 1322390606837022720, 'id_str': '1322390606837022720', 'indices': [110, 133], 'media_url': 'http://pbs.twimg.com/media/EloTQCbVgAAkkVV.jpg', 'media_url_https': 'https://pbs.twimg.com/media/EloTQCbVgAAkkVV.jpg', 'url': 'https://t.co/s6m5PuNaw6', 'display_url': 'pic.twitter.com/s6m5PuNaw6', 'expanded_url': 'https://twitter.com/LazyySaket/status/1322390630971047936/photo/1', 'type': 'photo', 'sizes': {'thumb': {'w': 150, 'h': 150, 'resize': 'crop'}, 'small': {'w': 655, 'h': 680, 'resize': 'fit'}, 'large': {'w': 1080, 'h': 1121, 'resize': 'fit'}, 'medium': {'w': 1080, 'h': 1121, 'resize': 'fit'}}}, {'id': 1322390617649934337, 'id_str': '1322390617649934337', 'indices': [110, 133], 'media_url': 'http://pbs.twimg.com/media/EloTQqtVcAEotLT.jpg', 'media_url_https': 'https://pbs.twimg.com/media/EloTQqtVcAEotLT.jpg', 'url': 'https://t.co/s6m5PuNaw6', 'display_url': 'pic.twitter.com/s6m5PuNaw6', 'expanded_url': 'https://twitter.com/LazyySaket/status/1322390630971047936/photo/1', 'type': 'photo', 'sizes': {'small': {'w': 595, 'h': 680, 'resize': 'fit'}, 'thumb': {'w': 150, 'h': 150, 'resize': 'crop'}, 'medium': {'w': 1049, 'h': 1200, 'resize': 'fit'}, 'large': {'w': 1080, 'h': 1235, 'resize': 'fit'}}}]}, 'metadata': {'iso_language_code': 'en', 'result_type': 'recent'}, 'source': '<a href=\"http://twitter.com/download/android\" rel=\"nofollow\">Twitter for Android</a>', 'in_reply_to_status_id': None, 'in_reply_to_status_id_str': None, 'in_reply_to_user_id': None, 'in_reply_to_user_id_str': None, 'in_reply_to_screen_name': None, 'user': {'id': 4094056633, 'id_str': '4094056633', 'name': 'Saket', 'screen_name': 'LazyySaket', 'location': 'India', 'description': '𝔻𝕖𝕒𝕣 ℤ𝕚𝕟𝕕𝕒𝕘𝕚 💕', 'url': None, 'entities': {'description': {'urls': []}}, 'protected': False, 'followers_count': 7430, 'friends_count': 677, 'listed_count': 5, 'created_at': 'Sun Nov 01 19:41:17 +0000 2015', 'favourites_count': 48980, 'utc_offset': None, 'time_zone': None, 'geo_enabled': False, 'verified': False, 'statuses_count': 43527, 'lang': None, 'contributors_enabled': False, 'is_translator': False, 'is_translation_enabled': False, 'profile_background_color': 'C0DEED', 'profile_background_image_url': 'http://abs.twimg.com/images/themes/theme1/bg.png', 'profile_background_image_url_https': 'https://abs.twimg.com/images/themes/theme1/bg.png', 'profile_background_tile': False, 'profile_image_url': 'http://pbs.twimg.com/profile_images/1320989740389130240/_RH6m_8C_normal.jpg', 'profile_image_url_https': 'https://pbs.twimg.com/profile_images/1320989740389130240/_RH6m_8C_normal.jpg', 'profile_banner_url': 'https://pbs.twimg.com/profile_banners/4094056633/1597844091', 'profile_link_color': '1DA1F2', 'profile_sidebar_border_color': 'C0DEED', 'profile_sidebar_fill_color': 'DDEEF6', 'profile_text_color': '333333', 'profile_use_background_image': True, 'has_extended_profile': True, 'default_profile': True, 'default_profile_image': False, 'following': False, 'follow_request_sent': False, 'notifications': False, 'translator_type': 'none'}, 'geo': None, 'coordinates': None, 'place': None, 'contributors': None, 'is_quote_status': False, 'retweet_count': 2, 'favorite_count': 18, 'favorited': False, 'retweeted': False, 'possibly_sensitive': False, 'lang': 'en'}, 'retweet_count': 0, 'favorite_count': 3, 'favorited': False, 'retweeted': False, 'possibly_sensitive': False, 'lang': 'en'}, created_at=datetime.datetime(2020, 10, 31, 4, 21, 2), id=1322393115387482112, id_str='1322393115387482112', full_text=\"Bhai jabardasti script banake interesting banayege toh aisa hi hoga 😂😂. \\nKoi IPL season aisa nhi tha jo interesting na ho. Because it's scripted. \\nAnyway, RCB is winning this season as per script. Take SS. https://t.co/1YgCtN6l2G\", truncated=False, display_text_range=[0, 205], entities={'hashtags': [], 'symbols': [], 'user_mentions': [], 'urls': [{'url': 'https://t.co/1YgCtN6l2G', 'expanded_url': 'https://twitter.com/LazyySaket/status/1322390630971047936', 'display_url': 'twitter.com/LazyySaket/sta…', 'indices': [206, 229]}]}, metadata={'iso_language_code': 'en', 'result_type': 'recent'}, source='Twitter for Android', source_url='http://twitter.com/download/android', in_reply_to_status_id=None, in_reply_to_status_id_str=None, in_reply_to_user_id=None, in_reply_to_user_id_str=None, in_reply_to_screen_name=None, author=User(_api=<tweepy.api.API object at 0x000001BD61EA1EC8>, _json={'id': 1035209573026684928, 'id_str': '1035209573026684928', 'name': '💰', 'screen_name': 'Epigrammatist_', 'location': 'Mumbai, India', 'description': '20. CA Final Student.', 'url': None, 'entities': {'description': {'urls': []}}, 'protected': False, 'followers_count': 6081, 'friends_count': 142, 'listed_count': 1, 'created_at': 'Thu Aug 30 16:56:10 +0000 2018', 'favourites_count': 50667, 'utc_offset': None, 'time_zone': None, 'geo_enabled': False, 'verified': False, 'statuses_count': 27104, 'lang': None, 'contributors_enabled': False, 'is_translator': False, 'is_translation_enabled': False, 'profile_background_color': 'F5F8FA', 'profile_background_image_url': None, 'profile_background_image_url_https': None, 'profile_background_tile': False, 'profile_image_url': 'http://pbs.twimg.com/profile_images/1322235532236083201/eE2tfwrb_normal.jpg', 'profile_image_url_https': 'https://pbs.twimg.com/profile_images/1322235532236083201/eE2tfwrb_normal.jpg', 'profile_banner_url': 'https://pbs.twimg.com/profile_banners/1035209573026684928/1604080490', 'profile_link_color': '1DA1F2', 'profile_sidebar_border_color': 'C0DEED', 'profile_sidebar_fill_color': 'DDEEF6', 'profile_text_color': '333333', 'profile_use_background_image': True, 'has_extended_profile': False, 'default_profile': True, 'default_profile_image': False, 'following': False, 'follow_request_sent': False, 'notifications': False, 'translator_type': 'none'}, id=1035209573026684928, id_str='1035209573026684928', name='💰', screen_name='Epigrammatist_', location='Mumbai, India', description='20. CA Final Student.', url=None, entities={'description': {'urls': []}}, protected=False, followers_count=6081, friends_count=142, listed_count=1, created_at=datetime.datetime(2018, 8, 30, 16, 56, 10), favourites_count=50667, utc_offset=None, time_zone=None, geo_enabled=False, verified=False, statuses_count=27104, lang=None, contributors_enabled=False, is_translator=False, is_translation_enabled=False, profile_background_color='F5F8FA', profile_background_image_url=None, profile_background_image_url_https=None, profile_background_tile=False, profile_image_url='http://pbs.twimg.com/profile_images/1322235532236083201/eE2tfwrb_normal.jpg', profile_image_url_https='https://pbs.twimg.com/profile_images/1322235532236083201/eE2tfwrb_normal.jpg', profile_banner_url='https://pbs.twimg.com/profile_banners/1035209573026684928/1604080490', profile_link_color='1DA1F2', profile_sidebar_border_color='C0DEED', profile_sidebar_fill_color='DDEEF6', profile_text_color='333333', profile_use_background_image=True, has_extended_profile=False, default_profile=True, default_profile_image=False, following=False, follow_request_sent=False, notifications=False, translator_type='none'), user=User(_api=<tweepy.api.API object at 0x000001BD61EA1EC8>, _json={'id': 1035209573026684928, 'id_str': '1035209573026684928', 'name': '💰', 'screen_name': 'Epigrammatist_', 'location': 'Mumbai, India', 'description': '20. CA Final Student.', 'url': None, 'entities': {'description': {'urls': []}}, 'protected': False, 'followers_count': 6081, 'friends_count': 142, 'listed_count': 1, 'created_at': 'Thu Aug 30 16:56:10 +0000 2018', 'favourites_count': 50667, 'utc_offset': None, 'time_zone': None, 'geo_enabled': False, 'verified': False, 'statuses_count': 27104, 'lang': None, 'contributors_enabled': False, 'is_translator': False, 'is_translation_enabled': False, 'profile_background_color': 'F5F8FA', 'profile_background_image_url': None, 'profile_background_image_url_https': None, 'profile_background_tile': False, 'profile_image_url': 'http://pbs.twimg.com/profile_images/1322235532236083201/eE2tfwrb_normal.jpg', 'profile_image_url_https': 'https://pbs.twimg.com/profile_images/1322235532236083201/eE2tfwrb_normal.jpg', 'profile_banner_url': 'https://pbs.twimg.com/profile_banners/1035209573026684928/1604080490', 'profile_link_color': '1DA1F2', 'profile_sidebar_border_color': 'C0DEED', 'profile_sidebar_fill_color': 'DDEEF6', 'profile_text_color': '333333', 'profile_use_background_image': True, 'has_extended_profile': False, 'default_profile': True, 'default_profile_image': False, 'following': False, 'follow_request_sent': False, 'notifications': False, 'translator_type': 'none'}, id=1035209573026684928, id_str='1035209573026684928', name='💰', screen_name='Epigrammatist_', location='Mumbai, India', description='20. CA Final Student.', url=None, entities={'description': {'urls': []}}, protected=False, followers_count=6081, friends_count=142, listed_count=1, created_at=datetime.datetime(2018, 8, 30, 16, 56, 10), favourites_count=50667, utc_offset=None, time_zone=None, geo_enabled=False, verified=False, statuses_count=27104, lang=None, contributors_enabled=False, is_translator=False, is_translation_enabled=False, profile_background_color='F5F8FA', profile_background_image_url=None, profile_background_image_url_https=None, profile_background_tile=False, profile_image_url='http://pbs.twimg.com/profile_images/1322235532236083201/eE2tfwrb_normal.jpg', profile_image_url_https='https://pbs.twimg.com/profile_images/1322235532236083201/eE2tfwrb_normal.jpg', profile_banner_url='https://pbs.twimg.com/profile_banners/1035209573026684928/1604080490', profile_link_color='1DA1F2', profile_sidebar_border_color='C0DEED', profile_sidebar_fill_color='DDEEF6', profile_text_color='333333', profile_use_background_image=True, has_extended_profile=False, default_profile=True, default_profile_image=False, following=False, follow_request_sent=False, notifications=False, translator_type='none'), geo=None, coordinates=None, place=None, contributors=None, is_quote_status=True, quoted_status_id=1322390630971047936, quoted_status_id_str='1322390630971047936', quoted_status=Status(_api=<tweepy.api.API object at 0x000001BD61EA1EC8>, _json={'created_at': 'Sat Oct 31 04:11:09 +0000 2020', 'id': 1322390630971047936, 'id_str': '1322390630971047936', 'full_text': 'Thats why @IPL is the best T20 league in the world\\n\\nGame is still open for all the team except #CSK \\n#IPL2020 https://t.co/s6m5PuNaw6', 'truncated': False, 'display_text_range': [0, 109], 'entities': {'hashtags': [{'text': 'CSK', 'indices': [95, 99]}, {'text': 'IPL2020', 'indices': [101, 109]}], 'symbols': [], 'user_mentions': [{'screen_name': 'IPL', 'name': 'IndianPremierLeague', 'id': 15639696, 'id_str': '15639696', 'indices': [10, 14]}], 'urls': [], 'media': [{'id': 1322390592739946496, 'id_str': '1322390592739946496', 'indices': [110, 133], 'media_url': 'http://pbs.twimg.com/media/EloTPN6VMAA0gMX.jpg', 'media_url_https': 'https://pbs.twimg.com/media/EloTPN6VMAA0gMX.jpg', 'url': 'https://t.co/s6m5PuNaw6', 'display_url': 'pic.twitter.com/s6m5PuNaw6', 'expanded_url': 'https://twitter.com/LazyySaket/status/1322390630971047936/photo/1', 'type': 'photo', 'sizes': {'medium': {'w': 869, 'h': 1200, 'resize': 'fit'}, 'thumb': {'w': 150, 'h': 150, 'resize': 'crop'}, 'large': {'w': 1080, 'h': 1492, 'resize': 'fit'}, 'small': {'w': 492, 'h': 680, 'resize': 'fit'}}}]}, 'extended_entities': {'media': [{'id': 1322390592739946496, 'id_str': '1322390592739946496', 'indices': [110, 133], 'media_url': 'http://pbs.twimg.com/media/EloTPN6VMAA0gMX.jpg', 'media_url_https': 'https://pbs.twimg.com/media/EloTPN6VMAA0gMX.jpg', 'url': 'https://t.co/s6m5PuNaw6', 'display_url': 'pic.twitter.com/s6m5PuNaw6', 'expanded_url': 'https://twitter.com/LazyySaket/status/1322390630971047936/photo/1', 'type': 'photo', 'sizes': {'medium': {'w': 869, 'h': 1200, 'resize': 'fit'}, 'thumb': {'w': 150, 'h': 150, 'resize': 'crop'}, 'large': {'w': 1080, 'h': 1492, 'resize': 'fit'}, 'small': {'w': 492, 'h': 680, 'resize': 'fit'}}}, {'id': 1322390606837022720, 'id_str': '1322390606837022720', 'indices': [110, 133], 'media_url': 'http://pbs.twimg.com/media/EloTQCbVgAAkkVV.jpg', 'media_url_https': 'https://pbs.twimg.com/media/EloTQCbVgAAkkVV.jpg', 'url': 'https://t.co/s6m5PuNaw6', 'display_url': 'pic.twitter.com/s6m5PuNaw6', 'expanded_url': 'https://twitter.com/LazyySaket/status/1322390630971047936/photo/1', 'type': 'photo', 'sizes': {'thumb': {'w': 150, 'h': 150, 'resize': 'crop'}, 'small': {'w': 655, 'h': 680, 'resize': 'fit'}, 'large': {'w': 1080, 'h': 1121, 'resize': 'fit'}, 'medium': {'w': 1080, 'h': 1121, 'resize': 'fit'}}}, {'id': 1322390617649934337, 'id_str': '1322390617649934337', 'indices': [110, 133], 'media_url': 'http://pbs.twimg.com/media/EloTQqtVcAEotLT.jpg', 'media_url_https': 'https://pbs.twimg.com/media/EloTQqtVcAEotLT.jpg', 'url': 'https://t.co/s6m5PuNaw6', 'display_url': 'pic.twitter.com/s6m5PuNaw6', 'expanded_url': 'https://twitter.com/LazyySaket/status/1322390630971047936/photo/1', 'type': 'photo', 'sizes': {'small': {'w': 595, 'h': 680, 'resize': 'fit'}, 'thumb': {'w': 150, 'h': 150, 'resize': 'crop'}, 'medium': {'w': 1049, 'h': 1200, 'resize': 'fit'}, 'large': {'w': 1080, 'h': 1235, 'resize': 'fit'}}}]}, 'metadata': {'iso_language_code': 'en', 'result_type': 'recent'}, 'source': '<a href=\"http://twitter.com/download/android\" rel=\"nofollow\">Twitter for Android</a>', 'in_reply_to_status_id': None, 'in_reply_to_status_id_str': None, 'in_reply_to_user_id': None, 'in_reply_to_user_id_str': None, 'in_reply_to_screen_name': None, 'user': {'id': 4094056633, 'id_str': '4094056633', 'name': 'Saket', 'screen_name': 'LazyySaket', 'location': 'India', 'description': '𝔻𝕖𝕒𝕣 ℤ𝕚𝕟𝕕𝕒𝕘𝕚 💕', 'url': None, 'entities': {'description': {'urls': []}}, 'protected': False, 'followers_count': 7430, 'friends_count': 677, 'listed_count': 5, 'created_at': 'Sun Nov 01 19:41:17 +0000 2015', 'favourites_count': 48980, 'utc_offset': None, 'time_zone': None, 'geo_enabled': False, 'verified': False, 'statuses_count': 43527, 'lang': None, 'contributors_enabled': False, 'is_translator': False, 'is_translation_enabled': False, 'profile_background_color': 'C0DEED', 'profile_background_image_url': 'http://abs.twimg.com/images/themes/theme1/bg.png', 'profile_background_image_url_https': 'https://abs.twimg.com/images/themes/theme1/bg.png', 'profile_background_tile': False, 'profile_image_url': 'http://pbs.twimg.com/profile_images/1320989740389130240/_RH6m_8C_normal.jpg', 'profile_image_url_https': 'https://pbs.twimg.com/profile_images/1320989740389130240/_RH6m_8C_normal.jpg', 'profile_banner_url': 'https://pbs.twimg.com/profile_banners/4094056633/1597844091', 'profile_link_color': '1DA1F2', 'profile_sidebar_border_color': 'C0DEED', 'profile_sidebar_fill_color': 'DDEEF6', 'profile_text_color': '333333', 'profile_use_background_image': True, 'has_extended_profile': True, 'default_profile': True, 'default_profile_image': False, 'following': False, 'follow_request_sent': False, 'notifications': False, 'translator_type': 'none'}, 'geo': None, 'coordinates': None, 'place': None, 'contributors': None, 'is_quote_status': False, 'retweet_count': 2, 'favorite_count': 18, 'favorited': False, 'retweeted': False, 'possibly_sensitive': False, 'lang': 'en'}, created_at=datetime.datetime(2020, 10, 31, 4, 11, 9), id=1322390630971047936, id_str='1322390630971047936', full_text='Thats why @IPL is the best T20 league in the world\\n\\nGame is still open for all the team except #CSK \\n#IPL2020 https://t.co/s6m5PuNaw6', truncated=False, display_text_range=[0, 109], entities={'hashtags': [{'text': 'CSK', 'indices': [95, 99]}, {'text': 'IPL2020', 'indices': [101, 109]}], 'symbols': [], 'user_mentions': [{'screen_name': 'IPL', 'name': 'IndianPremierLeague', 'id': 15639696, 'id_str': '15639696', 'indices': [10, 14]}], 'urls': [], 'media': [{'id': 1322390592739946496, 'id_str': '1322390592739946496', 'indices': [110, 133], 'media_url': 'http://pbs.twimg.com/media/EloTPN6VMAA0gMX.jpg', 'media_url_https': 'https://pbs.twimg.com/media/EloTPN6VMAA0gMX.jpg', 'url': 'https://t.co/s6m5PuNaw6', 'display_url': 'pic.twitter.com/s6m5PuNaw6', 'expanded_url': 'https://twitter.com/LazyySaket/status/1322390630971047936/photo/1', 'type': 'photo', 'sizes': {'medium': {'w': 869, 'h': 1200, 'resize': 'fit'}, 'thumb': {'w': 150, 'h': 150, 'resize': 'crop'}, 'large': {'w': 1080, 'h': 1492, 'resize': 'fit'}, 'small': {'w': 492, 'h': 680, 'resize': 'fit'}}}]}, extended_entities={'media': [{'id': 1322390592739946496, 'id_str': '1322390592739946496', 'indices': [110, 133], 'media_url': 'http://pbs.twimg.com/media/EloTPN6VMAA0gMX.jpg', 'media_url_https': 'https://pbs.twimg.com/media/EloTPN6VMAA0gMX.jpg', 'url': 'https://t.co/s6m5PuNaw6', 'display_url': 'pic.twitter.com/s6m5PuNaw6', 'expanded_url': 'https://twitter.com/LazyySaket/status/1322390630971047936/photo/1', 'type': 'photo', 'sizes': {'medium': {'w': 869, 'h': 1200, 'resize': 'fit'}, 'thumb': {'w': 150, 'h': 150, 'resize': 'crop'}, 'large': {'w': 1080, 'h': 1492, 'resize': 'fit'}, 'small': {'w': 492, 'h': 680, 'resize': 'fit'}}}, {'id': 1322390606837022720, 'id_str': '1322390606837022720', 'indices': [110, 133], 'media_url': 'http://pbs.twimg.com/media/EloTQCbVgAAkkVV.jpg', 'media_url_https': 'https://pbs.twimg.com/media/EloTQCbVgAAkkVV.jpg', 'url': 'https://t.co/s6m5PuNaw6', 'display_url': 'pic.twitter.com/s6m5PuNaw6', 'expanded_url': 'https://twitter.com/LazyySaket/status/1322390630971047936/photo/1', 'type': 'photo', 'sizes': {'thumb': {'w': 150, 'h': 150, 'resize': 'crop'}, 'small': {'w': 655, 'h': 680, 'resize': 'fit'}, 'large': {'w': 1080, 'h': 1121, 'resize': 'fit'}, 'medium': {'w': 1080, 'h': 1121, 'resize': 'fit'}}}, {'id': 1322390617649934337, 'id_str': '1322390617649934337', 'indices': [110, 133], 'media_url': 'http://pbs.twimg.com/media/EloTQqtVcAEotLT.jpg', 'media_url_https': 'https://pbs.twimg.com/media/EloTQqtVcAEotLT.jpg', 'url': 'https://t.co/s6m5PuNaw6', 'display_url': 'pic.twitter.com/s6m5PuNaw6', 'expanded_url': 'https://twitter.com/LazyySaket/status/1322390630971047936/photo/1', 'type': 'photo', 'sizes': {'small': {'w': 595, 'h': 680, 'resize': 'fit'}, 'thumb': {'w': 150, 'h': 150, 'resize': 'crop'}, 'medium': {'w': 1049, 'h': 1200, 'resize': 'fit'}, 'large': {'w': 1080, 'h': 1235, 'resize': 'fit'}}}]}, metadata={'iso_language_code': 'en', 'result_type': 'recent'}, source='Twitter for Android', source_url='http://twitter.com/download/android', in_reply_to_status_id=None, in_reply_to_status_id_str=None, in_reply_to_user_id=None, in_reply_to_user_id_str=None, in_reply_to_screen_name=None, author=User(_api=<tweepy.api.API object at 0x000001BD61EA1EC8>, _json={'id': 4094056633, 'id_str': '4094056633', 'name': 'Saket', 'screen_name': 'LazyySaket', 'location': 'India', 'description': '𝔻𝕖𝕒𝕣 ℤ𝕚𝕟𝕕𝕒𝕘𝕚 💕', 'url': None, 'entities': {'description': {'urls': []}}, 'protected': False, 'followers_count': 7430, 'friends_count': 677, 'listed_count': 5, 'created_at': 'Sun Nov 01 19:41:17 +0000 2015', 'favourites_count': 48980, 'utc_offset': None, 'time_zone': None, 'geo_enabled': False, 'verified': False, 'statuses_count': 43527, 'lang': None, 'contributors_enabled': False, 'is_translator': False, 'is_translation_enabled': False, 'profile_background_color': 'C0DEED', 'profile_background_image_url': 'http://abs.twimg.com/images/themes/theme1/bg.png', 'profile_background_image_url_https': 'https://abs.twimg.com/images/themes/theme1/bg.png', 'profile_background_tile': False, 'profile_image_url': 'http://pbs.twimg.com/profile_images/1320989740389130240/_RH6m_8C_normal.jpg', 'profile_image_url_https': 'https://pbs.twimg.com/profile_images/1320989740389130240/_RH6m_8C_normal.jpg', 'profile_banner_url': 'https://pbs.twimg.com/profile_banners/4094056633/1597844091', 'profile_link_color': '1DA1F2', 'profile_sidebar_border_color': 'C0DEED', 'profile_sidebar_fill_color': 'DDEEF6', 'profile_text_color': '333333', 'profile_use_background_image': True, 'has_extended_profile': True, 'default_profile': True, 'default_profile_image': False, 'following': False, 'follow_request_sent': False, 'notifications': False, 'translator_type': 'none'}, id=4094056633, id_str='4094056633', name='Saket', screen_name='LazyySaket', location='India', description='𝔻𝕖𝕒𝕣 ℤ𝕚𝕟𝕕𝕒𝕘𝕚 💕', url=None, entities={'description': {'urls': []}}, protected=False, followers_count=7430, friends_count=677, listed_count=5, created_at=datetime.datetime(2015, 11, 1, 19, 41, 17), favourites_count=48980, utc_offset=None, time_zone=None, geo_enabled=False, verified=False, statuses_count=43527, lang=None, contributors_enabled=False, is_translator=False, is_translation_enabled=False, profile_background_color='C0DEED', profile_background_image_url='http://abs.twimg.com/images/themes/theme1/bg.png', profile_background_image_url_https='https://abs.twimg.com/images/themes/theme1/bg.png', profile_background_tile=False, profile_image_url='http://pbs.twimg.com/profile_images/1320989740389130240/_RH6m_8C_normal.jpg', profile_image_url_https='https://pbs.twimg.com/profile_images/1320989740389130240/_RH6m_8C_normal.jpg', profile_banner_url='https://pbs.twimg.com/profile_banners/4094056633/1597844091', profile_link_color='1DA1F2', profile_sidebar_border_color='C0DEED', profile_sidebar_fill_color='DDEEF6', profile_text_color='333333', profile_use_background_image=True, has_extended_profile=True, default_profile=True, default_profile_image=False, following=False, follow_request_sent=False, notifications=False, translator_type='none'), user=User(_api=<tweepy.api.API object at 0x000001BD61EA1EC8>, _json={'id': 4094056633, 'id_str': '4094056633', 'name': 'Saket', 'screen_name': 'LazyySaket', 'location': 'India', 'description': '𝔻𝕖𝕒𝕣 ℤ𝕚𝕟𝕕𝕒𝕘𝕚 💕', 'url': None, 'entities': {'description': {'urls': []}}, 'protected': False, 'followers_count': 7430, 'friends_count': 677, 'listed_count': 5, 'created_at': 'Sun Nov 01 19:41:17 +0000 2015', 'favourites_count': 48980, 'utc_offset': None, 'time_zone': None, 'geo_enabled': False, 'verified': False, 'statuses_count': 43527, 'lang': None, 'contributors_enabled': False, 'is_translator': False, 'is_translation_enabled': False, 'profile_background_color': 'C0DEED', 'profile_background_image_url': 'http://abs.twimg.com/images/themes/theme1/bg.png', 'profile_background_image_url_https': 'https://abs.twimg.com/images/themes/theme1/bg.png', 'profile_background_tile': False, 'profile_image_url': 'http://pbs.twimg.com/profile_images/1320989740389130240/_RH6m_8C_normal.jpg', 'profile_image_url_https': 'https://pbs.twimg.com/profile_images/1320989740389130240/_RH6m_8C_normal.jpg', 'profile_banner_url': 'https://pbs.twimg.com/profile_banners/4094056633/1597844091', 'profile_link_color': '1DA1F2', 'profile_sidebar_border_color': 'C0DEED', 'profile_sidebar_fill_color': 'DDEEF6', 'profile_text_color': '333333', 'profile_use_background_image': True, 'has_extended_profile': True, 'default_profile': True, 'default_profile_image': False, 'following': False, 'follow_request_sent': False, 'notifications': False, 'translator_type': 'none'}, id=4094056633, id_str='4094056633', name='Saket', screen_name='LazyySaket', location='India', description='𝔻𝕖𝕒𝕣 ℤ𝕚𝕟𝕕𝕒𝕘𝕚 💕', url=None, entities={'description': {'urls': []}}, protected=False, followers_count=7430, friends_count=677, listed_count=5, created_at=datetime.datetime(2015, 11, 1, 19, 41, 17), favourites_count=48980, utc_offset=None, time_zone=None, geo_enabled=False, verified=False, statuses_count=43527, lang=None, contributors_enabled=False, is_translator=False, is_translation_enabled=False, profile_background_color='C0DEED', profile_background_image_url='http://abs.twimg.com/images/themes/theme1/bg.png', profile_background_image_url_https='https://abs.twimg.com/images/themes/theme1/bg.png', profile_background_tile=False, profile_image_url='http://pbs.twimg.com/profile_images/1320989740389130240/_RH6m_8C_normal.jpg', profile_image_url_https='https://pbs.twimg.com/profile_images/1320989740389130240/_RH6m_8C_normal.jpg', profile_banner_url='https://pbs.twimg.com/profile_banners/4094056633/1597844091', profile_link_color='1DA1F2', profile_sidebar_border_color='C0DEED', profile_sidebar_fill_color='DDEEF6', profile_text_color='333333', profile_use_background_image=True, has_extended_profile=True, default_profile=True, default_profile_image=False, following=False, follow_request_sent=False, notifications=False, translator_type='none'), geo=None, coordinates=None, place=None, contributors=None, is_quote_status=False, retweet_count=2, favorite_count=18, favorited=False, retweeted=False, possibly_sensitive=False, lang='en'), retweet_count=0, favorite_count=3, favorited=False, retweeted=False, possibly_sensitive=False, lang='en') \n",
      "\n",
      "-----------------------------\n",
      "\n",
      "Status(_api=<tweepy.api.API object at 0x000001BD61EA1EC8>, _json={'created_at': 'Sat Oct 31 03:25:09 +0000 2020', 'id': 1322379052741615617, 'id_str': '1322379052741615617', 'full_text': \"@Its_SakshamR @jagan1302 @PravinG97539521 @BCCI @imVkohli @AnushkaSharma Adaii fool , the main reason for trolling RCB is they have good players but they even 1 time they didn't won the IPL trophy,  but you saying oppositely 😂🤦\\u200d♂️ and comparing RCB and MI they are = but they not winning 🤷\\u200d♂️\", 'truncated': False, 'display_text_range': [73, 292], 'entities': {'hashtags': [], 'symbols': [], 'user_mentions': [{'screen_name': 'Its_SakshamR', 'name': '```~_Saksham_~```', 'id': 1244234176426983424, 'id_str': '1244234176426983424', 'indices': [0, 13]}, {'screen_name': 'jagan1302', 'name': 'Jagannath DASH', 'id': 185251653, 'id_str': '185251653', 'indices': [14, 24]}, {'screen_name': 'PravinG97539521', 'name': 'Pravin Gaikwad', 'id': 1320945169651224577, 'id_str': '1320945169651224577', 'indices': [25, 41]}, {'screen_name': 'BCCI', 'name': 'BCCI', 'id': 185142711, 'id_str': '185142711', 'indices': [42, 47]}, {'screen_name': 'imVkohli', 'name': 'Virat Kohli', 'id': 71201743, 'id_str': '71201743', 'indices': [48, 57]}, {'screen_name': 'AnushkaSharma', 'name': 'Anushka Sharma', 'id': 54829997, 'id_str': '54829997', 'indices': [58, 72]}], 'urls': []}, 'metadata': {'iso_language_code': 'en', 'result_type': 'recent'}, 'source': '<a href=\"http://twitter.com/download/android\" rel=\"nofollow\">Twitter for Android</a>', 'in_reply_to_status_id': 1322117852757782529, 'in_reply_to_status_id_str': '1322117852757782529', 'in_reply_to_user_id': 1244234176426983424, 'in_reply_to_user_id_str': '1244234176426983424', 'in_reply_to_screen_name': 'Its_SakshamR', 'user': {'id': 1157103510976024576, 'id_str': '1157103510976024576', 'name': 'Abinesh Raj', 'screen_name': 'AbineshRaj15', 'location': '', 'description': 'Single', 'url': None, 'entities': {'description': {'urls': []}}, 'protected': False, 'followers_count': 3, 'friends_count': 20, 'listed_count': 0, 'created_at': 'Fri Aug 02 01:39:09 +0000 2019', 'favourites_count': 31, 'utc_offset': None, 'time_zone': None, 'geo_enabled': False, 'verified': False, 'statuses_count': 67, 'lang': None, 'contributors_enabled': False, 'is_translator': False, 'is_translation_enabled': False, 'profile_background_color': 'F5F8FA', 'profile_background_image_url': None, 'profile_background_image_url_https': None, 'profile_background_tile': False, 'profile_image_url': 'http://pbs.twimg.com/profile_images/1157103772692168704/yjpDSQp9_normal.jpg', 'profile_image_url_https': 'https://pbs.twimg.com/profile_images/1157103772692168704/yjpDSQp9_normal.jpg', 'profile_banner_url': 'https://pbs.twimg.com/profile_banners/1157103510976024576/1597376636', 'profile_link_color': '1DA1F2', 'profile_sidebar_border_color': 'C0DEED', 'profile_sidebar_fill_color': 'DDEEF6', 'profile_text_color': '333333', 'profile_use_background_image': True, 'has_extended_profile': False, 'default_profile': True, 'default_profile_image': False, 'following': False, 'follow_request_sent': False, 'notifications': False, 'translator_type': 'none'}, 'geo': None, 'coordinates': None, 'place': None, 'contributors': None, 'is_quote_status': False, 'retweet_count': 0, 'favorite_count': 0, 'favorited': False, 'retweeted': False, 'lang': 'en'}, created_at=datetime.datetime(2020, 10, 31, 3, 25, 9), id=1322379052741615617, id_str='1322379052741615617', full_text=\"@Its_SakshamR @jagan1302 @PravinG97539521 @BCCI @imVkohli @AnushkaSharma Adaii fool , the main reason for trolling RCB is they have good players but they even 1 time they didn't won the IPL trophy,  but you saying oppositely 😂🤦\\u200d♂️ and comparing RCB and MI they are = but they not winning 🤷\\u200d♂️\", truncated=False, display_text_range=[73, 292], entities={'hashtags': [], 'symbols': [], 'user_mentions': [{'screen_name': 'Its_SakshamR', 'name': '```~_Saksham_~```', 'id': 1244234176426983424, 'id_str': '1244234176426983424', 'indices': [0, 13]}, {'screen_name': 'jagan1302', 'name': 'Jagannath DASH', 'id': 185251653, 'id_str': '185251653', 'indices': [14, 24]}, {'screen_name': 'PravinG97539521', 'name': 'Pravin Gaikwad', 'id': 1320945169651224577, 'id_str': '1320945169651224577', 'indices': [25, 41]}, {'screen_name': 'BCCI', 'name': 'BCCI', 'id': 185142711, 'id_str': '185142711', 'indices': [42, 47]}, {'screen_name': 'imVkohli', 'name': 'Virat Kohli', 'id': 71201743, 'id_str': '71201743', 'indices': [48, 57]}, {'screen_name': 'AnushkaSharma', 'name': 'Anushka Sharma', 'id': 54829997, 'id_str': '54829997', 'indices': [58, 72]}], 'urls': []}, metadata={'iso_language_code': 'en', 'result_type': 'recent'}, source='Twitter for Android', source_url='http://twitter.com/download/android', in_reply_to_status_id=1322117852757782529, in_reply_to_status_id_str='1322117852757782529', in_reply_to_user_id=1244234176426983424, in_reply_to_user_id_str='1244234176426983424', in_reply_to_screen_name='Its_SakshamR', author=User(_api=<tweepy.api.API object at 0x000001BD61EA1EC8>, _json={'id': 1157103510976024576, 'id_str': '1157103510976024576', 'name': 'Abinesh Raj', 'screen_name': 'AbineshRaj15', 'location': '', 'description': 'Single', 'url': None, 'entities': {'description': {'urls': []}}, 'protected': False, 'followers_count': 3, 'friends_count': 20, 'listed_count': 0, 'created_at': 'Fri Aug 02 01:39:09 +0000 2019', 'favourites_count': 31, 'utc_offset': None, 'time_zone': None, 'geo_enabled': False, 'verified': False, 'statuses_count': 67, 'lang': None, 'contributors_enabled': False, 'is_translator': False, 'is_translation_enabled': False, 'profile_background_color': 'F5F8FA', 'profile_background_image_url': None, 'profile_background_image_url_https': None, 'profile_background_tile': False, 'profile_image_url': 'http://pbs.twimg.com/profile_images/1157103772692168704/yjpDSQp9_normal.jpg', 'profile_image_url_https': 'https://pbs.twimg.com/profile_images/1157103772692168704/yjpDSQp9_normal.jpg', 'profile_banner_url': 'https://pbs.twimg.com/profile_banners/1157103510976024576/1597376636', 'profile_link_color': '1DA1F2', 'profile_sidebar_border_color': 'C0DEED', 'profile_sidebar_fill_color': 'DDEEF6', 'profile_text_color': '333333', 'profile_use_background_image': True, 'has_extended_profile': False, 'default_profile': True, 'default_profile_image': False, 'following': False, 'follow_request_sent': False, 'notifications': False, 'translator_type': 'none'}, id=1157103510976024576, id_str='1157103510976024576', name='Abinesh Raj', screen_name='AbineshRaj15', location='', description='Single', url=None, entities={'description': {'urls': []}}, protected=False, followers_count=3, friends_count=20, listed_count=0, created_at=datetime.datetime(2019, 8, 2, 1, 39, 9), favourites_count=31, utc_offset=None, time_zone=None, geo_enabled=False, verified=False, statuses_count=67, lang=None, contributors_enabled=False, is_translator=False, is_translation_enabled=False, profile_background_color='F5F8FA', profile_background_image_url=None, profile_background_image_url_https=None, profile_background_tile=False, profile_image_url='http://pbs.twimg.com/profile_images/1157103772692168704/yjpDSQp9_normal.jpg', profile_image_url_https='https://pbs.twimg.com/profile_images/1157103772692168704/yjpDSQp9_normal.jpg', profile_banner_url='https://pbs.twimg.com/profile_banners/1157103510976024576/1597376636', profile_link_color='1DA1F2', profile_sidebar_border_color='C0DEED', profile_sidebar_fill_color='DDEEF6', profile_text_color='333333', profile_use_background_image=True, has_extended_profile=False, default_profile=True, default_profile_image=False, following=False, follow_request_sent=False, notifications=False, translator_type='none'), user=User(_api=<tweepy.api.API object at 0x000001BD61EA1EC8>, _json={'id': 1157103510976024576, 'id_str': '1157103510976024576', 'name': 'Abinesh Raj', 'screen_name': 'AbineshRaj15', 'location': '', 'description': 'Single', 'url': None, 'entities': {'description': {'urls': []}}, 'protected': False, 'followers_count': 3, 'friends_count': 20, 'listed_count': 0, 'created_at': 'Fri Aug 02 01:39:09 +0000 2019', 'favourites_count': 31, 'utc_offset': None, 'time_zone': None, 'geo_enabled': False, 'verified': False, 'statuses_count': 67, 'lang': None, 'contributors_enabled': False, 'is_translator': False, 'is_translation_enabled': False, 'profile_background_color': 'F5F8FA', 'profile_background_image_url': None, 'profile_background_image_url_https': None, 'profile_background_tile': False, 'profile_image_url': 'http://pbs.twimg.com/profile_images/1157103772692168704/yjpDSQp9_normal.jpg', 'profile_image_url_https': 'https://pbs.twimg.com/profile_images/1157103772692168704/yjpDSQp9_normal.jpg', 'profile_banner_url': 'https://pbs.twimg.com/profile_banners/1157103510976024576/1597376636', 'profile_link_color': '1DA1F2', 'profile_sidebar_border_color': 'C0DEED', 'profile_sidebar_fill_color': 'DDEEF6', 'profile_text_color': '333333', 'profile_use_background_image': True, 'has_extended_profile': False, 'default_profile': True, 'default_profile_image': False, 'following': False, 'follow_request_sent': False, 'notifications': False, 'translator_type': 'none'}, id=1157103510976024576, id_str='1157103510976024576', name='Abinesh Raj', screen_name='AbineshRaj15', location='', description='Single', url=None, entities={'description': {'urls': []}}, protected=False, followers_count=3, friends_count=20, listed_count=0, created_at=datetime.datetime(2019, 8, 2, 1, 39, 9), favourites_count=31, utc_offset=None, time_zone=None, geo_enabled=False, verified=False, statuses_count=67, lang=None, contributors_enabled=False, is_translator=False, is_translation_enabled=False, profile_background_color='F5F8FA', profile_background_image_url=None, profile_background_image_url_https=None, profile_background_tile=False, profile_image_url='http://pbs.twimg.com/profile_images/1157103772692168704/yjpDSQp9_normal.jpg', profile_image_url_https='https://pbs.twimg.com/profile_images/1157103772692168704/yjpDSQp9_normal.jpg', profile_banner_url='https://pbs.twimg.com/profile_banners/1157103510976024576/1597376636', profile_link_color='1DA1F2', profile_sidebar_border_color='C0DEED', profile_sidebar_fill_color='DDEEF6', profile_text_color='333333', profile_use_background_image=True, has_extended_profile=False, default_profile=True, default_profile_image=False, following=False, follow_request_sent=False, notifications=False, translator_type='none'), geo=None, coordinates=None, place=None, contributors=None, is_quote_status=False, retweet_count=0, favorite_count=0, favorited=False, retweeted=False, lang='en') \n",
      "\n",
      "-----------------------------\n",
      "\n",
      "Status(_api=<tweepy.api.API object at 0x000001BD61EA1EC8>, _json={'created_at': 'Sat Oct 31 03:21:53 +0000 2020', 'id': 1322378231366909952, 'id_str': '1322378231366909952', 'full_text': \"Today is Very Important Match @RCBTweets\\n\\nIf We Are Winning It By Good Margin Or Even Winning It, We Are Going To Make Our Chances More Stronger For Top 2.....\\n\\nBecause Now It's Confirmed One Between RCB And DC Will Play 1st Qualifier...\\n\\n#IPL2020 #IPL\", 'truncated': False, 'display_text_range': [0, 252], 'entities': {'hashtags': [{'text': 'IPL2020', 'indices': [239, 247]}, {'text': 'IPL', 'indices': [248, 252]}], 'symbols': [], 'user_mentions': [{'screen_name': 'RCBTweets', 'name': 'Royal Challengers Bangalore', 'id': 70931004, 'id_str': '70931004', 'indices': [30, 40]}], 'urls': []}, 'metadata': {'iso_language_code': 'en', 'result_type': 'recent'}, 'source': '<a href=\"http://twitter.com/download/android\" rel=\"nofollow\">Twitter for Android</a>', 'in_reply_to_status_id': None, 'in_reply_to_status_id_str': None, 'in_reply_to_user_id': None, 'in_reply_to_user_id_str': None, 'in_reply_to_screen_name': None, 'user': {'id': 906365002352750593, 'id_str': '906365002352750593', 'name': 'K. Star {Kamal} #PlayBold ❤🌸🌠♠', 'screen_name': 'Bollywoodventu', 'location': '', 'description': 'दुश्मन के सितम का खौफ नहीं हमको हम तो दोस्तों के रूठ जाने से डरते है ❤️❤️\\n\\nCentral Govt Employee, Qualified Chartered Accountant, Ambitious..\\n\\n\\nTraveller 🚩❤️', 'url': None, 'entities': {'description': {'urls': []}}, 'protected': False, 'followers_count': 2460, 'friends_count': 679, 'listed_count': 4, 'created_at': 'Sat Sep 09 03:53:50 +0000 2017', 'favourites_count': 25765, 'utc_offset': None, 'time_zone': None, 'geo_enabled': False, 'verified': False, 'statuses_count': 45012, 'lang': None, 'contributors_enabled': False, 'is_translator': False, 'is_translation_enabled': False, 'profile_background_color': 'F5F8FA', 'profile_background_image_url': None, 'profile_background_image_url_https': None, 'profile_background_tile': False, 'profile_image_url': 'http://pbs.twimg.com/profile_images/1307295136322260992/fMsbhfXK_normal.jpg', 'profile_image_url_https': 'https://pbs.twimg.com/profile_images/1307295136322260992/fMsbhfXK_normal.jpg', 'profile_banner_url': 'https://pbs.twimg.com/profile_banners/906365002352750593/1598270999', 'profile_link_color': '1DA1F2', 'profile_sidebar_border_color': 'C0DEED', 'profile_sidebar_fill_color': 'DDEEF6', 'profile_text_color': '333333', 'profile_use_background_image': True, 'has_extended_profile': True, 'default_profile': True, 'default_profile_image': False, 'following': False, 'follow_request_sent': False, 'notifications': False, 'translator_type': 'none'}, 'geo': None, 'coordinates': None, 'place': None, 'contributors': None, 'is_quote_status': False, 'retweet_count': 0, 'favorite_count': 1, 'favorited': False, 'retweeted': False, 'lang': 'en'}, created_at=datetime.datetime(2020, 10, 31, 3, 21, 53), id=1322378231366909952, id_str='1322378231366909952', full_text=\"Today is Very Important Match @RCBTweets\\n\\nIf We Are Winning It By Good Margin Or Even Winning It, We Are Going To Make Our Chances More Stronger For Top 2.....\\n\\nBecause Now It's Confirmed One Between RCB And DC Will Play 1st Qualifier...\\n\\n#IPL2020 #IPL\", truncated=False, display_text_range=[0, 252], entities={'hashtags': [{'text': 'IPL2020', 'indices': [239, 247]}, {'text': 'IPL', 'indices': [248, 252]}], 'symbols': [], 'user_mentions': [{'screen_name': 'RCBTweets', 'name': 'Royal Challengers Bangalore', 'id': 70931004, 'id_str': '70931004', 'indices': [30, 40]}], 'urls': []}, metadata={'iso_language_code': 'en', 'result_type': 'recent'}, source='Twitter for Android', source_url='http://twitter.com/download/android', in_reply_to_status_id=None, in_reply_to_status_id_str=None, in_reply_to_user_id=None, in_reply_to_user_id_str=None, in_reply_to_screen_name=None, author=User(_api=<tweepy.api.API object at 0x000001BD61EA1EC8>, _json={'id': 906365002352750593, 'id_str': '906365002352750593', 'name': 'K. Star {Kamal} #PlayBold ❤🌸🌠♠', 'screen_name': 'Bollywoodventu', 'location': '', 'description': 'दुश्मन के सितम का खौफ नहीं हमको हम तो दोस्तों के रूठ जाने से डरते है ❤️❤️\\n\\nCentral Govt Employee, Qualified Chartered Accountant, Ambitious..\\n\\n\\nTraveller 🚩❤️', 'url': None, 'entities': {'description': {'urls': []}}, 'protected': False, 'followers_count': 2460, 'friends_count': 679, 'listed_count': 4, 'created_at': 'Sat Sep 09 03:53:50 +0000 2017', 'favourites_count': 25765, 'utc_offset': None, 'time_zone': None, 'geo_enabled': False, 'verified': False, 'statuses_count': 45012, 'lang': None, 'contributors_enabled': False, 'is_translator': False, 'is_translation_enabled': False, 'profile_background_color': 'F5F8FA', 'profile_background_image_url': None, 'profile_background_image_url_https': None, 'profile_background_tile': False, 'profile_image_url': 'http://pbs.twimg.com/profile_images/1307295136322260992/fMsbhfXK_normal.jpg', 'profile_image_url_https': 'https://pbs.twimg.com/profile_images/1307295136322260992/fMsbhfXK_normal.jpg', 'profile_banner_url': 'https://pbs.twimg.com/profile_banners/906365002352750593/1598270999', 'profile_link_color': '1DA1F2', 'profile_sidebar_border_color': 'C0DEED', 'profile_sidebar_fill_color': 'DDEEF6', 'profile_text_color': '333333', 'profile_use_background_image': True, 'has_extended_profile': True, 'default_profile': True, 'default_profile_image': False, 'following': False, 'follow_request_sent': False, 'notifications': False, 'translator_type': 'none'}, id=906365002352750593, id_str='906365002352750593', name='K. Star {Kamal} #PlayBold ❤🌸🌠♠', screen_name='Bollywoodventu', location='', description='दुश्मन के सितम का खौफ नहीं हमको हम तो दोस्तों के रूठ जाने से डरते है ❤️❤️\\n\\nCentral Govt Employee, Qualified Chartered Accountant, Ambitious..\\n\\n\\nTraveller 🚩❤️', url=None, entities={'description': {'urls': []}}, protected=False, followers_count=2460, friends_count=679, listed_count=4, created_at=datetime.datetime(2017, 9, 9, 3, 53, 50), favourites_count=25765, utc_offset=None, time_zone=None, geo_enabled=False, verified=False, statuses_count=45012, lang=None, contributors_enabled=False, is_translator=False, is_translation_enabled=False, profile_background_color='F5F8FA', profile_background_image_url=None, profile_background_image_url_https=None, profile_background_tile=False, profile_image_url='http://pbs.twimg.com/profile_images/1307295136322260992/fMsbhfXK_normal.jpg', profile_image_url_https='https://pbs.twimg.com/profile_images/1307295136322260992/fMsbhfXK_normal.jpg', profile_banner_url='https://pbs.twimg.com/profile_banners/906365002352750593/1598270999', profile_link_color='1DA1F2', profile_sidebar_border_color='C0DEED', profile_sidebar_fill_color='DDEEF6', profile_text_color='333333', profile_use_background_image=True, has_extended_profile=True, default_profile=True, default_profile_image=False, following=False, follow_request_sent=False, notifications=False, translator_type='none'), user=User(_api=<tweepy.api.API object at 0x000001BD61EA1EC8>, _json={'id': 906365002352750593, 'id_str': '906365002352750593', 'name': 'K. Star {Kamal} #PlayBold ❤🌸🌠♠', 'screen_name': 'Bollywoodventu', 'location': '', 'description': 'दुश्मन के सितम का खौफ नहीं हमको हम तो दोस्तों के रूठ जाने से डरते है ❤️❤️\\n\\nCentral Govt Employee, Qualified Chartered Accountant, Ambitious..\\n\\n\\nTraveller 🚩❤️', 'url': None, 'entities': {'description': {'urls': []}}, 'protected': False, 'followers_count': 2460, 'friends_count': 679, 'listed_count': 4, 'created_at': 'Sat Sep 09 03:53:50 +0000 2017', 'favourites_count': 25765, 'utc_offset': None, 'time_zone': None, 'geo_enabled': False, 'verified': False, 'statuses_count': 45012, 'lang': None, 'contributors_enabled': False, 'is_translator': False, 'is_translation_enabled': False, 'profile_background_color': 'F5F8FA', 'profile_background_image_url': None, 'profile_background_image_url_https': None, 'profile_background_tile': False, 'profile_image_url': 'http://pbs.twimg.com/profile_images/1307295136322260992/fMsbhfXK_normal.jpg', 'profile_image_url_https': 'https://pbs.twimg.com/profile_images/1307295136322260992/fMsbhfXK_normal.jpg', 'profile_banner_url': 'https://pbs.twimg.com/profile_banners/906365002352750593/1598270999', 'profile_link_color': '1DA1F2', 'profile_sidebar_border_color': 'C0DEED', 'profile_sidebar_fill_color': 'DDEEF6', 'profile_text_color': '333333', 'profile_use_background_image': True, 'has_extended_profile': True, 'default_profile': True, 'default_profile_image': False, 'following': False, 'follow_request_sent': False, 'notifications': False, 'translator_type': 'none'}, id=906365002352750593, id_str='906365002352750593', name='K. Star {Kamal} #PlayBold ❤🌸🌠♠', screen_name='Bollywoodventu', location='', description='दुश्मन के सितम का खौफ नहीं हमको हम तो दोस्तों के रूठ जाने से डरते है ❤️❤️\\n\\nCentral Govt Employee, Qualified Chartered Accountant, Ambitious..\\n\\n\\nTraveller 🚩❤️', url=None, entities={'description': {'urls': []}}, protected=False, followers_count=2460, friends_count=679, listed_count=4, created_at=datetime.datetime(2017, 9, 9, 3, 53, 50), favourites_count=25765, utc_offset=None, time_zone=None, geo_enabled=False, verified=False, statuses_count=45012, lang=None, contributors_enabled=False, is_translator=False, is_translation_enabled=False, profile_background_color='F5F8FA', profile_background_image_url=None, profile_background_image_url_https=None, profile_background_tile=False, profile_image_url='http://pbs.twimg.com/profile_images/1307295136322260992/fMsbhfXK_normal.jpg', profile_image_url_https='https://pbs.twimg.com/profile_images/1307295136322260992/fMsbhfXK_normal.jpg', profile_banner_url='https://pbs.twimg.com/profile_banners/906365002352750593/1598270999', profile_link_color='1DA1F2', profile_sidebar_border_color='C0DEED', profile_sidebar_fill_color='DDEEF6', profile_text_color='333333', profile_use_background_image=True, has_extended_profile=True, default_profile=True, default_profile_image=False, following=False, follow_request_sent=False, notifications=False, translator_type='none'), geo=None, coordinates=None, place=None, contributors=None, is_quote_status=False, retweet_count=0, favorite_count=1, favorited=False, retweeted=False, lang='en') \n",
      "\n",
      "-----------------------------\n",
      "\n",
      "Status(_api=<tweepy.api.API object at 0x000001BD61EA1EC8>, _json={'created_at': 'Sat Oct 31 00:40:05 +0000 2020', 'id': 1322337512916885504, 'id_str': '1322337512916885504', 'full_text': '@puruchandratre @IPLFantasy @IPL Not only for number 4 but also 2 and 3 because recently RCB and DC have lost their winning momentum . If any of these will lose both their remaining matches , they can slip to no.3 or no.4 . If NRR is too bad and also if RR and KXIP win the remaining 1 match, one team will', 'truncated': False, 'display_text_range': [33, 306], 'entities': {'hashtags': [], 'symbols': [], 'user_mentions': [{'screen_name': 'puruchandratre', 'name': 'purushottam chandratre', 'id': 1058633479796060160, 'id_str': '1058633479796060160', 'indices': [0, 15]}, {'screen_name': 'IPLFantasy', 'name': 'IPL Fantasy League', 'id': 849138220793253888, 'id_str': '849138220793253888', 'indices': [16, 27]}, {'screen_name': 'IPL', 'name': 'IndianPremierLeague', 'id': 15639696, 'id_str': '15639696', 'indices': [28, 32]}], 'urls': []}, 'metadata': {'iso_language_code': 'en', 'result_type': 'recent'}, 'source': '<a href=\"http://twitter.com/download/android\" rel=\"nofollow\">Twitter for Android</a>', 'in_reply_to_status_id': 1322236614039408640, 'in_reply_to_status_id_str': '1322236614039408640', 'in_reply_to_user_id': 1058633479796060160, 'in_reply_to_user_id_str': '1058633479796060160', 'in_reply_to_screen_name': 'puruchandratre', 'user': {'id': 1288015427818250241, 'id_str': '1288015427818250241', 'name': 'NEEHAR', 'screen_name': 'Neehi58', 'location': 'Vishakhapatnam, India', 'description': '𝑰𝑵𝑫𝑰𝑨𝑵🇮🇳 | Official twitter account of Sai Neehar |', 'url': None, 'entities': {'description': {'urls': []}}, 'protected': False, 'followers_count': 3, 'friends_count': 44, 'listed_count': 0, 'created_at': 'Tue Jul 28 07:36:36 +0000 2020', 'favourites_count': 65, 'utc_offset': None, 'time_zone': None, 'geo_enabled': False, 'verified': False, 'statuses_count': 14, 'lang': None, 'contributors_enabled': False, 'is_translator': False, 'is_translation_enabled': False, 'profile_background_color': 'F5F8FA', 'profile_background_image_url': None, 'profile_background_image_url_https': None, 'profile_background_tile': False, 'profile_image_url': 'http://pbs.twimg.com/profile_images/1307928117789376513/tCpYXa9d_normal.jpg', 'profile_image_url_https': 'https://pbs.twimg.com/profile_images/1307928117789376513/tCpYXa9d_normal.jpg', 'profile_banner_url': 'https://pbs.twimg.com/profile_banners/1288015427818250241/1600664408', 'profile_link_color': '1DA1F2', 'profile_sidebar_border_color': 'C0DEED', 'profile_sidebar_fill_color': 'DDEEF6', 'profile_text_color': '333333', 'profile_use_background_image': True, 'has_extended_profile': True, 'default_profile': True, 'default_profile_image': False, 'following': False, 'follow_request_sent': False, 'notifications': False, 'translator_type': 'none'}, 'geo': None, 'coordinates': None, 'place': None, 'contributors': None, 'is_quote_status': False, 'retweet_count': 0, 'favorite_count': 0, 'favorited': False, 'retweeted': False, 'lang': 'en'}, created_at=datetime.datetime(2020, 10, 31, 0, 40, 5), id=1322337512916885504, id_str='1322337512916885504', full_text='@puruchandratre @IPLFantasy @IPL Not only for number 4 but also 2 and 3 because recently RCB and DC have lost their winning momentum . If any of these will lose both their remaining matches , they can slip to no.3 or no.4 . If NRR is too bad and also if RR and KXIP win the remaining 1 match, one team will', truncated=False, display_text_range=[33, 306], entities={'hashtags': [], 'symbols': [], 'user_mentions': [{'screen_name': 'puruchandratre', 'name': 'purushottam chandratre', 'id': 1058633479796060160, 'id_str': '1058633479796060160', 'indices': [0, 15]}, {'screen_name': 'IPLFantasy', 'name': 'IPL Fantasy League', 'id': 849138220793253888, 'id_str': '849138220793253888', 'indices': [16, 27]}, {'screen_name': 'IPL', 'name': 'IndianPremierLeague', 'id': 15639696, 'id_str': '15639696', 'indices': [28, 32]}], 'urls': []}, metadata={'iso_language_code': 'en', 'result_type': 'recent'}, source='Twitter for Android', source_url='http://twitter.com/download/android', in_reply_to_status_id=1322236614039408640, in_reply_to_status_id_str='1322236614039408640', in_reply_to_user_id=1058633479796060160, in_reply_to_user_id_str='1058633479796060160', in_reply_to_screen_name='puruchandratre', author=User(_api=<tweepy.api.API object at 0x000001BD61EA1EC8>, _json={'id': 1288015427818250241, 'id_str': '1288015427818250241', 'name': 'NEEHAR', 'screen_name': 'Neehi58', 'location': 'Vishakhapatnam, India', 'description': '𝑰𝑵𝑫𝑰𝑨𝑵🇮🇳 | Official twitter account of Sai Neehar |', 'url': None, 'entities': {'description': {'urls': []}}, 'protected': False, 'followers_count': 3, 'friends_count': 44, 'listed_count': 0, 'created_at': 'Tue Jul 28 07:36:36 +0000 2020', 'favourites_count': 65, 'utc_offset': None, 'time_zone': None, 'geo_enabled': False, 'verified': False, 'statuses_count': 14, 'lang': None, 'contributors_enabled': False, 'is_translator': False, 'is_translation_enabled': False, 'profile_background_color': 'F5F8FA', 'profile_background_image_url': None, 'profile_background_image_url_https': None, 'profile_background_tile': False, 'profile_image_url': 'http://pbs.twimg.com/profile_images/1307928117789376513/tCpYXa9d_normal.jpg', 'profile_image_url_https': 'https://pbs.twimg.com/profile_images/1307928117789376513/tCpYXa9d_normal.jpg', 'profile_banner_url': 'https://pbs.twimg.com/profile_banners/1288015427818250241/1600664408', 'profile_link_color': '1DA1F2', 'profile_sidebar_border_color': 'C0DEED', 'profile_sidebar_fill_color': 'DDEEF6', 'profile_text_color': '333333', 'profile_use_background_image': True, 'has_extended_profile': True, 'default_profile': True, 'default_profile_image': False, 'following': False, 'follow_request_sent': False, 'notifications': False, 'translator_type': 'none'}, id=1288015427818250241, id_str='1288015427818250241', name='NEEHAR', screen_name='Neehi58', location='Vishakhapatnam, India', description='𝑰𝑵𝑫𝑰𝑨𝑵🇮🇳 | Official twitter account of Sai Neehar |', url=None, entities={'description': {'urls': []}}, protected=False, followers_count=3, friends_count=44, listed_count=0, created_at=datetime.datetime(2020, 7, 28, 7, 36, 36), favourites_count=65, utc_offset=None, time_zone=None, geo_enabled=False, verified=False, statuses_count=14, lang=None, contributors_enabled=False, is_translator=False, is_translation_enabled=False, profile_background_color='F5F8FA', profile_background_image_url=None, profile_background_image_url_https=None, profile_background_tile=False, profile_image_url='http://pbs.twimg.com/profile_images/1307928117789376513/tCpYXa9d_normal.jpg', profile_image_url_https='https://pbs.twimg.com/profile_images/1307928117789376513/tCpYXa9d_normal.jpg', profile_banner_url='https://pbs.twimg.com/profile_banners/1288015427818250241/1600664408', profile_link_color='1DA1F2', profile_sidebar_border_color='C0DEED', profile_sidebar_fill_color='DDEEF6', profile_text_color='333333', profile_use_background_image=True, has_extended_profile=True, default_profile=True, default_profile_image=False, following=False, follow_request_sent=False, notifications=False, translator_type='none'), user=User(_api=<tweepy.api.API object at 0x000001BD61EA1EC8>, _json={'id': 1288015427818250241, 'id_str': '1288015427818250241', 'name': 'NEEHAR', 'screen_name': 'Neehi58', 'location': 'Vishakhapatnam, India', 'description': '𝑰𝑵𝑫𝑰𝑨𝑵🇮🇳 | Official twitter account of Sai Neehar |', 'url': None, 'entities': {'description': {'urls': []}}, 'protected': False, 'followers_count': 3, 'friends_count': 44, 'listed_count': 0, 'created_at': 'Tue Jul 28 07:36:36 +0000 2020', 'favourites_count': 65, 'utc_offset': None, 'time_zone': None, 'geo_enabled': False, 'verified': False, 'statuses_count': 14, 'lang': None, 'contributors_enabled': False, 'is_translator': False, 'is_translation_enabled': False, 'profile_background_color': 'F5F8FA', 'profile_background_image_url': None, 'profile_background_image_url_https': None, 'profile_background_tile': False, 'profile_image_url': 'http://pbs.twimg.com/profile_images/1307928117789376513/tCpYXa9d_normal.jpg', 'profile_image_url_https': 'https://pbs.twimg.com/profile_images/1307928117789376513/tCpYXa9d_normal.jpg', 'profile_banner_url': 'https://pbs.twimg.com/profile_banners/1288015427818250241/1600664408', 'profile_link_color': '1DA1F2', 'profile_sidebar_border_color': 'C0DEED', 'profile_sidebar_fill_color': 'DDEEF6', 'profile_text_color': '333333', 'profile_use_background_image': True, 'has_extended_profile': True, 'default_profile': True, 'default_profile_image': False, 'following': False, 'follow_request_sent': False, 'notifications': False, 'translator_type': 'none'}, id=1288015427818250241, id_str='1288015427818250241', name='NEEHAR', screen_name='Neehi58', location='Vishakhapatnam, India', description='𝑰𝑵𝑫𝑰𝑨𝑵🇮🇳 | Official twitter account of Sai Neehar |', url=None, entities={'description': {'urls': []}}, protected=False, followers_count=3, friends_count=44, listed_count=0, created_at=datetime.datetime(2020, 7, 28, 7, 36, 36), favourites_count=65, utc_offset=None, time_zone=None, geo_enabled=False, verified=False, statuses_count=14, lang=None, contributors_enabled=False, is_translator=False, is_translation_enabled=False, profile_background_color='F5F8FA', profile_background_image_url=None, profile_background_image_url_https=None, profile_background_tile=False, profile_image_url='http://pbs.twimg.com/profile_images/1307928117789376513/tCpYXa9d_normal.jpg', profile_image_url_https='https://pbs.twimg.com/profile_images/1307928117789376513/tCpYXa9d_normal.jpg', profile_banner_url='https://pbs.twimg.com/profile_banners/1288015427818250241/1600664408', profile_link_color='1DA1F2', profile_sidebar_border_color='C0DEED', profile_sidebar_fill_color='DDEEF6', profile_text_color='333333', profile_use_background_image=True, has_extended_profile=True, default_profile=True, default_profile_image=False, following=False, follow_request_sent=False, notifications=False, translator_type='none'), geo=None, coordinates=None, place=None, contributors=None, is_quote_status=False, retweet_count=0, favorite_count=0, favorited=False, retweeted=False, lang='en') \n",
      "\n",
      "-----------------------------\n",
      "\n",
      "Status(_api=<tweepy.api.API object at 0x000001BD61EA1EC8>, _json={'created_at': 'Fri Oct 30 22:41:08 +0000 2020', 'id': 1322307575862362112, 'id_str': '1322307575862362112', 'full_text': \"@_antihistamine Manifesting RCB winning this year's IPL finals\", 'truncated': False, 'display_text_range': [16, 62], 'entities': {'hashtags': [], 'symbols': [], 'user_mentions': [{'screen_name': '_antihistamine', 'name': 'asmita // anne sexton stan account', 'id': 709290212086587392, 'id_str': '709290212086587392', 'indices': [0, 15]}], 'urls': []}, 'metadata': {'iso_language_code': 'en', 'result_type': 'recent'}, 'source': '<a href=\"https://mobile.twitter.com\" rel=\"nofollow\">Twitter Web App</a>', 'in_reply_to_status_id': 1322305629025755136, 'in_reply_to_status_id_str': '1322305629025755136', 'in_reply_to_user_id': 709290212086587392, 'in_reply_to_user_id_str': '709290212086587392', 'in_reply_to_screen_name': '_antihistamine', 'user': {'id': 1226705940298133505, 'id_str': '1226705940298133505', 'name': 'Yuvraj', 'screen_name': 'YuvRadiation', 'location': '', 'description': 'Somewhere between making sense and people laugh. he/him', 'url': None, 'entities': {'description': {'urls': []}}, 'protected': False, 'followers_count': 1786, 'friends_count': 647, 'listed_count': 7, 'created_at': 'Mon Feb 10 03:14:37 +0000 2020', 'favourites_count': 35860, 'utc_offset': None, 'time_zone': None, 'geo_enabled': True, 'verified': False, 'statuses_count': 12118, 'lang': None, 'contributors_enabled': False, 'is_translator': False, 'is_translation_enabled': False, 'profile_background_color': 'F5F8FA', 'profile_background_image_url': None, 'profile_background_image_url_https': None, 'profile_background_tile': False, 'profile_image_url': 'http://pbs.twimg.com/profile_images/1314252077976227854/1Mp-pMao_normal.jpg', 'profile_image_url_https': 'https://pbs.twimg.com/profile_images/1314252077976227854/1Mp-pMao_normal.jpg', 'profile_link_color': '1DA1F2', 'profile_sidebar_border_color': 'C0DEED', 'profile_sidebar_fill_color': 'DDEEF6', 'profile_text_color': '333333', 'profile_use_background_image': True, 'has_extended_profile': True, 'default_profile': True, 'default_profile_image': False, 'following': False, 'follow_request_sent': False, 'notifications': False, 'translator_type': 'none'}, 'geo': None, 'coordinates': None, 'place': None, 'contributors': None, 'is_quote_status': False, 'retweet_count': 0, 'favorite_count': 0, 'favorited': False, 'retweeted': False, 'lang': 'en'}, created_at=datetime.datetime(2020, 10, 30, 22, 41, 8), id=1322307575862362112, id_str='1322307575862362112', full_text=\"@_antihistamine Manifesting RCB winning this year's IPL finals\", truncated=False, display_text_range=[16, 62], entities={'hashtags': [], 'symbols': [], 'user_mentions': [{'screen_name': '_antihistamine', 'name': 'asmita // anne sexton stan account', 'id': 709290212086587392, 'id_str': '709290212086587392', 'indices': [0, 15]}], 'urls': []}, metadata={'iso_language_code': 'en', 'result_type': 'recent'}, source='Twitter Web App', source_url='https://mobile.twitter.com', in_reply_to_status_id=1322305629025755136, in_reply_to_status_id_str='1322305629025755136', in_reply_to_user_id=709290212086587392, in_reply_to_user_id_str='709290212086587392', in_reply_to_screen_name='_antihistamine', author=User(_api=<tweepy.api.API object at 0x000001BD61EA1EC8>, _json={'id': 1226705940298133505, 'id_str': '1226705940298133505', 'name': 'Yuvraj', 'screen_name': 'YuvRadiation', 'location': '', 'description': 'Somewhere between making sense and people laugh. he/him', 'url': None, 'entities': {'description': {'urls': []}}, 'protected': False, 'followers_count': 1786, 'friends_count': 647, 'listed_count': 7, 'created_at': 'Mon Feb 10 03:14:37 +0000 2020', 'favourites_count': 35860, 'utc_offset': None, 'time_zone': None, 'geo_enabled': True, 'verified': False, 'statuses_count': 12118, 'lang': None, 'contributors_enabled': False, 'is_translator': False, 'is_translation_enabled': False, 'profile_background_color': 'F5F8FA', 'profile_background_image_url': None, 'profile_background_image_url_https': None, 'profile_background_tile': False, 'profile_image_url': 'http://pbs.twimg.com/profile_images/1314252077976227854/1Mp-pMao_normal.jpg', 'profile_image_url_https': 'https://pbs.twimg.com/profile_images/1314252077976227854/1Mp-pMao_normal.jpg', 'profile_link_color': '1DA1F2', 'profile_sidebar_border_color': 'C0DEED', 'profile_sidebar_fill_color': 'DDEEF6', 'profile_text_color': '333333', 'profile_use_background_image': True, 'has_extended_profile': True, 'default_profile': True, 'default_profile_image': False, 'following': False, 'follow_request_sent': False, 'notifications': False, 'translator_type': 'none'}, id=1226705940298133505, id_str='1226705940298133505', name='Yuvraj', screen_name='YuvRadiation', location='', description='Somewhere between making sense and people laugh. he/him', url=None, entities={'description': {'urls': []}}, protected=False, followers_count=1786, friends_count=647, listed_count=7, created_at=datetime.datetime(2020, 2, 10, 3, 14, 37), favourites_count=35860, utc_offset=None, time_zone=None, geo_enabled=True, verified=False, statuses_count=12118, lang=None, contributors_enabled=False, is_translator=False, is_translation_enabled=False, profile_background_color='F5F8FA', profile_background_image_url=None, profile_background_image_url_https=None, profile_background_tile=False, profile_image_url='http://pbs.twimg.com/profile_images/1314252077976227854/1Mp-pMao_normal.jpg', profile_image_url_https='https://pbs.twimg.com/profile_images/1314252077976227854/1Mp-pMao_normal.jpg', profile_link_color='1DA1F2', profile_sidebar_border_color='C0DEED', profile_sidebar_fill_color='DDEEF6', profile_text_color='333333', profile_use_background_image=True, has_extended_profile=True, default_profile=True, default_profile_image=False, following=False, follow_request_sent=False, notifications=False, translator_type='none'), user=User(_api=<tweepy.api.API object at 0x000001BD61EA1EC8>, _json={'id': 1226705940298133505, 'id_str': '1226705940298133505', 'name': 'Yuvraj', 'screen_name': 'YuvRadiation', 'location': '', 'description': 'Somewhere between making sense and people laugh. he/him', 'url': None, 'entities': {'description': {'urls': []}}, 'protected': False, 'followers_count': 1786, 'friends_count': 647, 'listed_count': 7, 'created_at': 'Mon Feb 10 03:14:37 +0000 2020', 'favourites_count': 35860, 'utc_offset': None, 'time_zone': None, 'geo_enabled': True, 'verified': False, 'statuses_count': 12118, 'lang': None, 'contributors_enabled': False, 'is_translator': False, 'is_translation_enabled': False, 'profile_background_color': 'F5F8FA', 'profile_background_image_url': None, 'profile_background_image_url_https': None, 'profile_background_tile': False, 'profile_image_url': 'http://pbs.twimg.com/profile_images/1314252077976227854/1Mp-pMao_normal.jpg', 'profile_image_url_https': 'https://pbs.twimg.com/profile_images/1314252077976227854/1Mp-pMao_normal.jpg', 'profile_link_color': '1DA1F2', 'profile_sidebar_border_color': 'C0DEED', 'profile_sidebar_fill_color': 'DDEEF6', 'profile_text_color': '333333', 'profile_use_background_image': True, 'has_extended_profile': True, 'default_profile': True, 'default_profile_image': False, 'following': False, 'follow_request_sent': False, 'notifications': False, 'translator_type': 'none'}, id=1226705940298133505, id_str='1226705940298133505', name='Yuvraj', screen_name='YuvRadiation', location='', description='Somewhere between making sense and people laugh. he/him', url=None, entities={'description': {'urls': []}}, protected=False, followers_count=1786, friends_count=647, listed_count=7, created_at=datetime.datetime(2020, 2, 10, 3, 14, 37), favourites_count=35860, utc_offset=None, time_zone=None, geo_enabled=True, verified=False, statuses_count=12118, lang=None, contributors_enabled=False, is_translator=False, is_translation_enabled=False, profile_background_color='F5F8FA', profile_background_image_url=None, profile_background_image_url_https=None, profile_background_tile=False, profile_image_url='http://pbs.twimg.com/profile_images/1314252077976227854/1Mp-pMao_normal.jpg', profile_image_url_https='https://pbs.twimg.com/profile_images/1314252077976227854/1Mp-pMao_normal.jpg', profile_link_color='1DA1F2', profile_sidebar_border_color='C0DEED', profile_sidebar_fill_color='DDEEF6', profile_text_color='333333', profile_use_background_image=True, has_extended_profile=True, default_profile=True, default_profile_image=False, following=False, follow_request_sent=False, notifications=False, translator_type='none'), geo=None, coordinates=None, place=None, contributors=None, is_quote_status=False, retweet_count=0, favorite_count=0, favorited=False, retweeted=False, lang='en') \n",
      "\n",
      "-----------------------------\n",
      "\n",
      "Status(_api=<tweepy.api.API object at 0x000001BD61EA1EC8>, _json={'created_at': 'Fri Oct 30 18:57:30 +0000 2020', 'id': 1322251299245723648, 'id_str': '1322251299245723648', 'full_text': '@Eshwar_Royal1 @IPL They deserve to win this year. Dying to see RCB winning the IPL.', 'truncated': False, 'display_text_range': [20, 84], 'entities': {'hashtags': [], 'symbols': [], 'user_mentions': [{'screen_name': 'Eshwar_Royal1', 'name': 'Eshwar Chowdary', 'id': 1289550121890279425, 'id_str': '1289550121890279425', 'indices': [0, 14]}, {'screen_name': 'IPL', 'name': 'IndianPremierLeague', 'id': 15639696, 'id_str': '15639696', 'indices': [15, 19]}], 'urls': []}, 'metadata': {'iso_language_code': 'en', 'result_type': 'recent'}, 'source': '<a href=\"https://mobile.twitter.com\" rel=\"nofollow\">Twitter Web App</a>', 'in_reply_to_status_id': 1322245032976379904, 'in_reply_to_status_id_str': '1322245032976379904', 'in_reply_to_user_id': 1289550121890279425, 'in_reply_to_user_id_str': '1289550121890279425', 'in_reply_to_screen_name': 'Eshwar_Royal1', 'user': {'id': 1321563916917448707, 'id_str': '1321563916917448707', 'name': 'ssngage', 'screen_name': 'ssngage', 'location': '', 'description': '24. Indian. RCB. Liverpool.\\n\\nEat. Sleep. Conquer. Repeat.', 'url': None, 'entities': {'description': {'urls': []}}, 'protected': False, 'followers_count': 0, 'friends_count': 14, 'listed_count': 0, 'created_at': 'Wed Oct 28 21:26:33 +0000 2020', 'favourites_count': 4, 'utc_offset': None, 'time_zone': None, 'geo_enabled': False, 'verified': False, 'statuses_count': 30, 'lang': None, 'contributors_enabled': False, 'is_translator': False, 'is_translation_enabled': False, 'profile_background_color': 'F5F8FA', 'profile_background_image_url': None, 'profile_background_image_url_https': None, 'profile_background_tile': False, 'profile_image_url': 'http://abs.twimg.com/sticky/default_profile_images/default_profile_normal.png', 'profile_image_url_https': 'https://abs.twimg.com/sticky/default_profile_images/default_profile_normal.png', 'profile_link_color': '1DA1F2', 'profile_sidebar_border_color': 'C0DEED', 'profile_sidebar_fill_color': 'DDEEF6', 'profile_text_color': '333333', 'profile_use_background_image': True, 'has_extended_profile': True, 'default_profile': True, 'default_profile_image': True, 'following': False, 'follow_request_sent': False, 'notifications': False, 'translator_type': 'none'}, 'geo': None, 'coordinates': None, 'place': None, 'contributors': None, 'is_quote_status': False, 'retweet_count': 0, 'favorite_count': 1, 'favorited': False, 'retweeted': False, 'lang': 'en'}, created_at=datetime.datetime(2020, 10, 30, 18, 57, 30), id=1322251299245723648, id_str='1322251299245723648', full_text='@Eshwar_Royal1 @IPL They deserve to win this year. Dying to see RCB winning the IPL.', truncated=False, display_text_range=[20, 84], entities={'hashtags': [], 'symbols': [], 'user_mentions': [{'screen_name': 'Eshwar_Royal1', 'name': 'Eshwar Chowdary', 'id': 1289550121890279425, 'id_str': '1289550121890279425', 'indices': [0, 14]}, {'screen_name': 'IPL', 'name': 'IndianPremierLeague', 'id': 15639696, 'id_str': '15639696', 'indices': [15, 19]}], 'urls': []}, metadata={'iso_language_code': 'en', 'result_type': 'recent'}, source='Twitter Web App', source_url='https://mobile.twitter.com', in_reply_to_status_id=1322245032976379904, in_reply_to_status_id_str='1322245032976379904', in_reply_to_user_id=1289550121890279425, in_reply_to_user_id_str='1289550121890279425', in_reply_to_screen_name='Eshwar_Royal1', author=User(_api=<tweepy.api.API object at 0x000001BD61EA1EC8>, _json={'id': 1321563916917448707, 'id_str': '1321563916917448707', 'name': 'ssngage', 'screen_name': 'ssngage', 'location': '', 'description': '24. Indian. RCB. Liverpool.\\n\\nEat. Sleep. Conquer. Repeat.', 'url': None, 'entities': {'description': {'urls': []}}, 'protected': False, 'followers_count': 0, 'friends_count': 14, 'listed_count': 0, 'created_at': 'Wed Oct 28 21:26:33 +0000 2020', 'favourites_count': 4, 'utc_offset': None, 'time_zone': None, 'geo_enabled': False, 'verified': False, 'statuses_count': 30, 'lang': None, 'contributors_enabled': False, 'is_translator': False, 'is_translation_enabled': False, 'profile_background_color': 'F5F8FA', 'profile_background_image_url': None, 'profile_background_image_url_https': None, 'profile_background_tile': False, 'profile_image_url': 'http://abs.twimg.com/sticky/default_profile_images/default_profile_normal.png', 'profile_image_url_https': 'https://abs.twimg.com/sticky/default_profile_images/default_profile_normal.png', 'profile_link_color': '1DA1F2', 'profile_sidebar_border_color': 'C0DEED', 'profile_sidebar_fill_color': 'DDEEF6', 'profile_text_color': '333333', 'profile_use_background_image': True, 'has_extended_profile': True, 'default_profile': True, 'default_profile_image': True, 'following': False, 'follow_request_sent': False, 'notifications': False, 'translator_type': 'none'}, id=1321563916917448707, id_str='1321563916917448707', name='ssngage', screen_name='ssngage', location='', description='24. Indian. RCB. Liverpool.\\n\\nEat. Sleep. Conquer. Repeat.', url=None, entities={'description': {'urls': []}}, protected=False, followers_count=0, friends_count=14, listed_count=0, created_at=datetime.datetime(2020, 10, 28, 21, 26, 33), favourites_count=4, utc_offset=None, time_zone=None, geo_enabled=False, verified=False, statuses_count=30, lang=None, contributors_enabled=False, is_translator=False, is_translation_enabled=False, profile_background_color='F5F8FA', profile_background_image_url=None, profile_background_image_url_https=None, profile_background_tile=False, profile_image_url='http://abs.twimg.com/sticky/default_profile_images/default_profile_normal.png', profile_image_url_https='https://abs.twimg.com/sticky/default_profile_images/default_profile_normal.png', profile_link_color='1DA1F2', profile_sidebar_border_color='C0DEED', profile_sidebar_fill_color='DDEEF6', profile_text_color='333333', profile_use_background_image=True, has_extended_profile=True, default_profile=True, default_profile_image=True, following=False, follow_request_sent=False, notifications=False, translator_type='none'), user=User(_api=<tweepy.api.API object at 0x000001BD61EA1EC8>, _json={'id': 1321563916917448707, 'id_str': '1321563916917448707', 'name': 'ssngage', 'screen_name': 'ssngage', 'location': '', 'description': '24. Indian. RCB. Liverpool.\\n\\nEat. Sleep. Conquer. Repeat.', 'url': None, 'entities': {'description': {'urls': []}}, 'protected': False, 'followers_count': 0, 'friends_count': 14, 'listed_count': 0, 'created_at': 'Wed Oct 28 21:26:33 +0000 2020', 'favourites_count': 4, 'utc_offset': None, 'time_zone': None, 'geo_enabled': False, 'verified': False, 'statuses_count': 30, 'lang': None, 'contributors_enabled': False, 'is_translator': False, 'is_translation_enabled': False, 'profile_background_color': 'F5F8FA', 'profile_background_image_url': None, 'profile_background_image_url_https': None, 'profile_background_tile': False, 'profile_image_url': 'http://abs.twimg.com/sticky/default_profile_images/default_profile_normal.png', 'profile_image_url_https': 'https://abs.twimg.com/sticky/default_profile_images/default_profile_normal.png', 'profile_link_color': '1DA1F2', 'profile_sidebar_border_color': 'C0DEED', 'profile_sidebar_fill_color': 'DDEEF6', 'profile_text_color': '333333', 'profile_use_background_image': True, 'has_extended_profile': True, 'default_profile': True, 'default_profile_image': True, 'following': False, 'follow_request_sent': False, 'notifications': False, 'translator_type': 'none'}, id=1321563916917448707, id_str='1321563916917448707', name='ssngage', screen_name='ssngage', location='', description='24. Indian. RCB. Liverpool.\\n\\nEat. Sleep. Conquer. Repeat.', url=None, entities={'description': {'urls': []}}, protected=False, followers_count=0, friends_count=14, listed_count=0, created_at=datetime.datetime(2020, 10, 28, 21, 26, 33), favourites_count=4, utc_offset=None, time_zone=None, geo_enabled=False, verified=False, statuses_count=30, lang=None, contributors_enabled=False, is_translator=False, is_translation_enabled=False, profile_background_color='F5F8FA', profile_background_image_url=None, profile_background_image_url_https=None, profile_background_tile=False, profile_image_url='http://abs.twimg.com/sticky/default_profile_images/default_profile_normal.png', profile_image_url_https='https://abs.twimg.com/sticky/default_profile_images/default_profile_normal.png', profile_link_color='1DA1F2', profile_sidebar_border_color='C0DEED', profile_sidebar_fill_color='DDEEF6', profile_text_color='333333', profile_use_background_image=True, has_extended_profile=True, default_profile=True, default_profile_image=True, following=False, follow_request_sent=False, notifications=False, translator_type='none'), geo=None, coordinates=None, place=None, contributors=None, is_quote_status=False, retweet_count=0, favorite_count=1, favorited=False, retweeted=False, lang='en') \n",
      "\n",
      "-----------------------------\n",
      "\n",
      "Status(_api=<tweepy.api.API object at 0x000001BD61EA1EC8>, _json={'created_at': 'Fri Oct 30 17:52:36 +0000 2020', 'id': 1322234967934468096, 'id_str': '1322234967934468096', 'full_text': '@dhruvjha2001 @JofraArcher 😂😂\\nRcb winning this Ipl', 'truncated': False, 'display_text_range': [27, 50], 'entities': {'hashtags': [], 'symbols': [], 'user_mentions': [{'screen_name': 'dhruvjha2001', 'name': 'Dhruv', 'id': 3012379129, 'id_str': '3012379129', 'indices': [0, 13]}, {'screen_name': 'JofraArcher', 'name': 'Jofra Archer', 'id': 290153781, 'id_str': '290153781', 'indices': [14, 26]}], 'urls': []}, 'metadata': {'iso_language_code': 'en', 'result_type': 'recent'}, 'source': '<a href=\"http://twitter.com/download/android\" rel=\"nofollow\">Twitter for Android</a>', 'in_reply_to_status_id': 1322234764527431680, 'in_reply_to_status_id_str': '1322234764527431680', 'in_reply_to_user_id': 3012379129, 'in_reply_to_user_id_str': '3012379129', 'in_reply_to_screen_name': 'dhruvjha2001', 'user': {'id': 1218040858563502080, 'id_str': '1218040858563502080', 'name': 'ً', 'screen_name': 'MehuIII', 'location': '', 'description': 'drunk.', 'url': None, 'entities': {'description': {'urls': []}}, 'protected': False, 'followers_count': 768, 'friends_count': 338, 'listed_count': 6, 'created_at': 'Fri Jan 17 05:22:41 +0000 2020', 'favourites_count': 5390, 'utc_offset': None, 'time_zone': None, 'geo_enabled': False, 'verified': False, 'statuses_count': 7034, 'lang': None, 'contributors_enabled': False, 'is_translator': False, 'is_translation_enabled': False, 'profile_background_color': 'F5F8FA', 'profile_background_image_url': None, 'profile_background_image_url_https': None, 'profile_background_tile': False, 'profile_image_url': 'http://pbs.twimg.com/profile_images/1320968911718809601/btKX3U8L_normal.jpg', 'profile_image_url_https': 'https://pbs.twimg.com/profile_images/1320968911718809601/btKX3U8L_normal.jpg', 'profile_banner_url': 'https://pbs.twimg.com/profile_banners/1218040858563502080/1601928281', 'profile_link_color': '1DA1F2', 'profile_sidebar_border_color': 'C0DEED', 'profile_sidebar_fill_color': 'DDEEF6', 'profile_text_color': '333333', 'profile_use_background_image': True, 'has_extended_profile': False, 'default_profile': True, 'default_profile_image': False, 'following': False, 'follow_request_sent': False, 'notifications': False, 'translator_type': 'none'}, 'geo': None, 'coordinates': None, 'place': None, 'contributors': None, 'is_quote_status': False, 'retweet_count': 0, 'favorite_count': 0, 'favorited': False, 'retweeted': False, 'lang': 'en'}, created_at=datetime.datetime(2020, 10, 30, 17, 52, 36), id=1322234967934468096, id_str='1322234967934468096', full_text='@dhruvjha2001 @JofraArcher 😂😂\\nRcb winning this Ipl', truncated=False, display_text_range=[27, 50], entities={'hashtags': [], 'symbols': [], 'user_mentions': [{'screen_name': 'dhruvjha2001', 'name': 'Dhruv', 'id': 3012379129, 'id_str': '3012379129', 'indices': [0, 13]}, {'screen_name': 'JofraArcher', 'name': 'Jofra Archer', 'id': 290153781, 'id_str': '290153781', 'indices': [14, 26]}], 'urls': []}, metadata={'iso_language_code': 'en', 'result_type': 'recent'}, source='Twitter for Android', source_url='http://twitter.com/download/android', in_reply_to_status_id=1322234764527431680, in_reply_to_status_id_str='1322234764527431680', in_reply_to_user_id=3012379129, in_reply_to_user_id_str='3012379129', in_reply_to_screen_name='dhruvjha2001', author=User(_api=<tweepy.api.API object at 0x000001BD61EA1EC8>, _json={'id': 1218040858563502080, 'id_str': '1218040858563502080', 'name': 'ً', 'screen_name': 'MehuIII', 'location': '', 'description': 'drunk.', 'url': None, 'entities': {'description': {'urls': []}}, 'protected': False, 'followers_count': 768, 'friends_count': 338, 'listed_count': 6, 'created_at': 'Fri Jan 17 05:22:41 +0000 2020', 'favourites_count': 5390, 'utc_offset': None, 'time_zone': None, 'geo_enabled': False, 'verified': False, 'statuses_count': 7034, 'lang': None, 'contributors_enabled': False, 'is_translator': False, 'is_translation_enabled': False, 'profile_background_color': 'F5F8FA', 'profile_background_image_url': None, 'profile_background_image_url_https': None, 'profile_background_tile': False, 'profile_image_url': 'http://pbs.twimg.com/profile_images/1320968911718809601/btKX3U8L_normal.jpg', 'profile_image_url_https': 'https://pbs.twimg.com/profile_images/1320968911718809601/btKX3U8L_normal.jpg', 'profile_banner_url': 'https://pbs.twimg.com/profile_banners/1218040858563502080/1601928281', 'profile_link_color': '1DA1F2', 'profile_sidebar_border_color': 'C0DEED', 'profile_sidebar_fill_color': 'DDEEF6', 'profile_text_color': '333333', 'profile_use_background_image': True, 'has_extended_profile': False, 'default_profile': True, 'default_profile_image': False, 'following': False, 'follow_request_sent': False, 'notifications': False, 'translator_type': 'none'}, id=1218040858563502080, id_str='1218040858563502080', name='ً', screen_name='MehuIII', location='', description='drunk.', url=None, entities={'description': {'urls': []}}, protected=False, followers_count=768, friends_count=338, listed_count=6, created_at=datetime.datetime(2020, 1, 17, 5, 22, 41), favourites_count=5390, utc_offset=None, time_zone=None, geo_enabled=False, verified=False, statuses_count=7034, lang=None, contributors_enabled=False, is_translator=False, is_translation_enabled=False, profile_background_color='F5F8FA', profile_background_image_url=None, profile_background_image_url_https=None, profile_background_tile=False, profile_image_url='http://pbs.twimg.com/profile_images/1320968911718809601/btKX3U8L_normal.jpg', profile_image_url_https='https://pbs.twimg.com/profile_images/1320968911718809601/btKX3U8L_normal.jpg', profile_banner_url='https://pbs.twimg.com/profile_banners/1218040858563502080/1601928281', profile_link_color='1DA1F2', profile_sidebar_border_color='C0DEED', profile_sidebar_fill_color='DDEEF6', profile_text_color='333333', profile_use_background_image=True, has_extended_profile=False, default_profile=True, default_profile_image=False, following=False, follow_request_sent=False, notifications=False, translator_type='none'), user=User(_api=<tweepy.api.API object at 0x000001BD61EA1EC8>, _json={'id': 1218040858563502080, 'id_str': '1218040858563502080', 'name': 'ً', 'screen_name': 'MehuIII', 'location': '', 'description': 'drunk.', 'url': None, 'entities': {'description': {'urls': []}}, 'protected': False, 'followers_count': 768, 'friends_count': 338, 'listed_count': 6, 'created_at': 'Fri Jan 17 05:22:41 +0000 2020', 'favourites_count': 5390, 'utc_offset': None, 'time_zone': None, 'geo_enabled': False, 'verified': False, 'statuses_count': 7034, 'lang': None, 'contributors_enabled': False, 'is_translator': False, 'is_translation_enabled': False, 'profile_background_color': 'F5F8FA', 'profile_background_image_url': None, 'profile_background_image_url_https': None, 'profile_background_tile': False, 'profile_image_url': 'http://pbs.twimg.com/profile_images/1320968911718809601/btKX3U8L_normal.jpg', 'profile_image_url_https': 'https://pbs.twimg.com/profile_images/1320968911718809601/btKX3U8L_normal.jpg', 'profile_banner_url': 'https://pbs.twimg.com/profile_banners/1218040858563502080/1601928281', 'profile_link_color': '1DA1F2', 'profile_sidebar_border_color': 'C0DEED', 'profile_sidebar_fill_color': 'DDEEF6', 'profile_text_color': '333333', 'profile_use_background_image': True, 'has_extended_profile': False, 'default_profile': True, 'default_profile_image': False, 'following': False, 'follow_request_sent': False, 'notifications': False, 'translator_type': 'none'}, id=1218040858563502080, id_str='1218040858563502080', name='ً', screen_name='MehuIII', location='', description='drunk.', url=None, entities={'description': {'urls': []}}, protected=False, followers_count=768, friends_count=338, listed_count=6, created_at=datetime.datetime(2020, 1, 17, 5, 22, 41), favourites_count=5390, utc_offset=None, time_zone=None, geo_enabled=False, verified=False, statuses_count=7034, lang=None, contributors_enabled=False, is_translator=False, is_translation_enabled=False, profile_background_color='F5F8FA', profile_background_image_url=None, profile_background_image_url_https=None, profile_background_tile=False, profile_image_url='http://pbs.twimg.com/profile_images/1320968911718809601/btKX3U8L_normal.jpg', profile_image_url_https='https://pbs.twimg.com/profile_images/1320968911718809601/btKX3U8L_normal.jpg', profile_banner_url='https://pbs.twimg.com/profile_banners/1218040858563502080/1601928281', profile_link_color='1DA1F2', profile_sidebar_border_color='C0DEED', profile_sidebar_fill_color='DDEEF6', profile_text_color='333333', profile_use_background_image=True, has_extended_profile=False, default_profile=True, default_profile_image=False, following=False, follow_request_sent=False, notifications=False, translator_type='none'), geo=None, coordinates=None, place=None, contributors=None, is_quote_status=False, retweet_count=0, favorite_count=0, favorited=False, retweeted=False, lang='en') \n",
      "\n",
      "-----------------------------\n",
      "\n",
      "Status(_api=<tweepy.api.API object at 0x000001BD61EA1EC8>, _json={'created_at': 'Fri Oct 30 17:08:27 +0000 2020', 'id': 1322223854211620864, 'id_str': '1322223854211620864', 'full_text': '@_Vivek_50 RCB winning ipl or RR ?', 'truncated': False, 'display_text_range': [11, 34], 'entities': {'hashtags': [], 'symbols': [], 'user_mentions': [{'screen_name': '_Vivek_50', 'name': 'That Cricket Guy🐼', 'id': 1268949645364850694, 'id_str': '1268949645364850694', 'indices': [0, 10]}], 'urls': []}, 'metadata': {'iso_language_code': 'en', 'result_type': 'recent'}, 'source': '<a href=\"http://twitter.com/download/android\" rel=\"nofollow\">Twitter for Android</a>', 'in_reply_to_status_id': 1286331831684485120, 'in_reply_to_status_id_str': '1286331831684485120', 'in_reply_to_user_id': 1268949645364850694, 'in_reply_to_user_id_str': '1268949645364850694', 'in_reply_to_screen_name': '_Vivek_50', 'user': {'id': 1094606132922994688, 'id_str': '1094606132922994688', 'name': 'Kusi 🐰|| RCB ❤', 'screen_name': 'Asli_Khushi', 'location': 'Ahmedabad, Gujarat, India', 'description': '🇮🇳//20//Virat Kohli//RCB', 'url': None, 'entities': {'description': {'urls': []}}, 'protected': False, 'followers_count': 814, 'friends_count': 115, 'listed_count': 0, 'created_at': 'Sun Feb 10 14:36:53 +0000 2019', 'favourites_count': 49350, 'utc_offset': None, 'time_zone': None, 'geo_enabled': True, 'verified': False, 'statuses_count': 13599, 'lang': None, 'contributors_enabled': False, 'is_translator': False, 'is_translation_enabled': False, 'profile_background_color': 'F5F8FA', 'profile_background_image_url': None, 'profile_background_image_url_https': None, 'profile_background_tile': False, 'profile_image_url': 'http://pbs.twimg.com/profile_images/1319720906655137794/vjyYDe60_normal.jpg', 'profile_image_url_https': 'https://pbs.twimg.com/profile_images/1319720906655137794/vjyYDe60_normal.jpg', 'profile_banner_url': 'https://pbs.twimg.com/profile_banners/1094606132922994688/1599889336', 'profile_link_color': '1DA1F2', 'profile_sidebar_border_color': 'C0DEED', 'profile_sidebar_fill_color': 'DDEEF6', 'profile_text_color': '333333', 'profile_use_background_image': True, 'has_extended_profile': True, 'default_profile': True, 'default_profile_image': False, 'following': False, 'follow_request_sent': False, 'notifications': False, 'translator_type': 'none'}, 'geo': None, 'coordinates': None, 'place': None, 'contributors': None, 'is_quote_status': False, 'retweet_count': 0, 'favorite_count': 1, 'favorited': False, 'retweeted': False, 'lang': 'en'}, created_at=datetime.datetime(2020, 10, 30, 17, 8, 27), id=1322223854211620864, id_str='1322223854211620864', full_text='@_Vivek_50 RCB winning ipl or RR ?', truncated=False, display_text_range=[11, 34], entities={'hashtags': [], 'symbols': [], 'user_mentions': [{'screen_name': '_Vivek_50', 'name': 'That Cricket Guy🐼', 'id': 1268949645364850694, 'id_str': '1268949645364850694', 'indices': [0, 10]}], 'urls': []}, metadata={'iso_language_code': 'en', 'result_type': 'recent'}, source='Twitter for Android', source_url='http://twitter.com/download/android', in_reply_to_status_id=1286331831684485120, in_reply_to_status_id_str='1286331831684485120', in_reply_to_user_id=1268949645364850694, in_reply_to_user_id_str='1268949645364850694', in_reply_to_screen_name='_Vivek_50', author=User(_api=<tweepy.api.API object at 0x000001BD61EA1EC8>, _json={'id': 1094606132922994688, 'id_str': '1094606132922994688', 'name': 'Kusi 🐰|| RCB ❤', 'screen_name': 'Asli_Khushi', 'location': 'Ahmedabad, Gujarat, India', 'description': '🇮🇳//20//Virat Kohli//RCB', 'url': None, 'entities': {'description': {'urls': []}}, 'protected': False, 'followers_count': 814, 'friends_count': 115, 'listed_count': 0, 'created_at': 'Sun Feb 10 14:36:53 +0000 2019', 'favourites_count': 49350, 'utc_offset': None, 'time_zone': None, 'geo_enabled': True, 'verified': False, 'statuses_count': 13599, 'lang': None, 'contributors_enabled': False, 'is_translator': False, 'is_translation_enabled': False, 'profile_background_color': 'F5F8FA', 'profile_background_image_url': None, 'profile_background_image_url_https': None, 'profile_background_tile': False, 'profile_image_url': 'http://pbs.twimg.com/profile_images/1319720906655137794/vjyYDe60_normal.jpg', 'profile_image_url_https': 'https://pbs.twimg.com/profile_images/1319720906655137794/vjyYDe60_normal.jpg', 'profile_banner_url': 'https://pbs.twimg.com/profile_banners/1094606132922994688/1599889336', 'profile_link_color': '1DA1F2', 'profile_sidebar_border_color': 'C0DEED', 'profile_sidebar_fill_color': 'DDEEF6', 'profile_text_color': '333333', 'profile_use_background_image': True, 'has_extended_profile': True, 'default_profile': True, 'default_profile_image': False, 'following': False, 'follow_request_sent': False, 'notifications': False, 'translator_type': 'none'}, id=1094606132922994688, id_str='1094606132922994688', name='Kusi 🐰|| RCB ❤', screen_name='Asli_Khushi', location='Ahmedabad, Gujarat, India', description='🇮🇳//20//Virat Kohli//RCB', url=None, entities={'description': {'urls': []}}, protected=False, followers_count=814, friends_count=115, listed_count=0, created_at=datetime.datetime(2019, 2, 10, 14, 36, 53), favourites_count=49350, utc_offset=None, time_zone=None, geo_enabled=True, verified=False, statuses_count=13599, lang=None, contributors_enabled=False, is_translator=False, is_translation_enabled=False, profile_background_color='F5F8FA', profile_background_image_url=None, profile_background_image_url_https=None, profile_background_tile=False, profile_image_url='http://pbs.twimg.com/profile_images/1319720906655137794/vjyYDe60_normal.jpg', profile_image_url_https='https://pbs.twimg.com/profile_images/1319720906655137794/vjyYDe60_normal.jpg', profile_banner_url='https://pbs.twimg.com/profile_banners/1094606132922994688/1599889336', profile_link_color='1DA1F2', profile_sidebar_border_color='C0DEED', profile_sidebar_fill_color='DDEEF6', profile_text_color='333333', profile_use_background_image=True, has_extended_profile=True, default_profile=True, default_profile_image=False, following=False, follow_request_sent=False, notifications=False, translator_type='none'), user=User(_api=<tweepy.api.API object at 0x000001BD61EA1EC8>, _json={'id': 1094606132922994688, 'id_str': '1094606132922994688', 'name': 'Kusi 🐰|| RCB ❤', 'screen_name': 'Asli_Khushi', 'location': 'Ahmedabad, Gujarat, India', 'description': '🇮🇳//20//Virat Kohli//RCB', 'url': None, 'entities': {'description': {'urls': []}}, 'protected': False, 'followers_count': 814, 'friends_count': 115, 'listed_count': 0, 'created_at': 'Sun Feb 10 14:36:53 +0000 2019', 'favourites_count': 49350, 'utc_offset': None, 'time_zone': None, 'geo_enabled': True, 'verified': False, 'statuses_count': 13599, 'lang': None, 'contributors_enabled': False, 'is_translator': False, 'is_translation_enabled': False, 'profile_background_color': 'F5F8FA', 'profile_background_image_url': None, 'profile_background_image_url_https': None, 'profile_background_tile': False, 'profile_image_url': 'http://pbs.twimg.com/profile_images/1319720906655137794/vjyYDe60_normal.jpg', 'profile_image_url_https': 'https://pbs.twimg.com/profile_images/1319720906655137794/vjyYDe60_normal.jpg', 'profile_banner_url': 'https://pbs.twimg.com/profile_banners/1094606132922994688/1599889336', 'profile_link_color': '1DA1F2', 'profile_sidebar_border_color': 'C0DEED', 'profile_sidebar_fill_color': 'DDEEF6', 'profile_text_color': '333333', 'profile_use_background_image': True, 'has_extended_profile': True, 'default_profile': True, 'default_profile_image': False, 'following': False, 'follow_request_sent': False, 'notifications': False, 'translator_type': 'none'}, id=1094606132922994688, id_str='1094606132922994688', name='Kusi 🐰|| RCB ❤', screen_name='Asli_Khushi', location='Ahmedabad, Gujarat, India', description='🇮🇳//20//Virat Kohli//RCB', url=None, entities={'description': {'urls': []}}, protected=False, followers_count=814, friends_count=115, listed_count=0, created_at=datetime.datetime(2019, 2, 10, 14, 36, 53), favourites_count=49350, utc_offset=None, time_zone=None, geo_enabled=True, verified=False, statuses_count=13599, lang=None, contributors_enabled=False, is_translator=False, is_translation_enabled=False, profile_background_color='F5F8FA', profile_background_image_url=None, profile_background_image_url_https=None, profile_background_tile=False, profile_image_url='http://pbs.twimg.com/profile_images/1319720906655137794/vjyYDe60_normal.jpg', profile_image_url_https='https://pbs.twimg.com/profile_images/1319720906655137794/vjyYDe60_normal.jpg', profile_banner_url='https://pbs.twimg.com/profile_banners/1094606132922994688/1599889336', profile_link_color='1DA1F2', profile_sidebar_border_color='C0DEED', profile_sidebar_fill_color='DDEEF6', profile_text_color='333333', profile_use_background_image=True, has_extended_profile=True, default_profile=True, default_profile_image=False, following=False, follow_request_sent=False, notifications=False, translator_type='none'), geo=None, coordinates=None, place=None, contributors=None, is_quote_status=False, retweet_count=0, favorite_count=1, favorited=False, retweeted=False, lang='en') \n",
      "\n",
      "-----------------------------\n",
      "\n"
     ]
    }
   ],
   "source": [
    "query = \"RCB winning IPL\"\n",
    "print(query)\n",
    "tweets = twee.search(query, count = 10,lang = 'en', exclude = 'retweets', tweet_mode = 'extended')\n",
    "print(type(tweets))\n",
    "\n",
    "for tweet in tweets:\n",
    "    print(tweet,\"\\n\")\n",
    "    print('-----------------------------\\n')"
   ]
  },
  {
   "cell_type": "code",
   "execution_count": 13,
   "metadata": {},
   "outputs": [
    {
     "name": "stdout",
     "output_type": "stream",
     "text": [
      "Empty DataFrame\n",
      "Columns: [Tweets, User, User_statuses_count, user_followers, User_location, User_verified, fav_count, rt_count, tweet_date]\n",
      "Index: []\n"
     ]
    }
   ],
   "source": [
    "df = pd.DataFrame(columns = ['Tweets' , 'User' , 'User_statuses_count' , \n",
    "                            'user_followers' , 'User_location' , 'User_verified' ,\n",
    "                            'fav_count' , 'rt_count' , 'tweet_date'] )\n",
    "print(df)"
   ]
  },
  {
   "cell_type": "code",
   "execution_count": 16,
   "metadata": {},
   "outputs": [],
   "source": [
    "def stream(data, file_name):\n",
    "    i = 0\n",
    "    for tweet in tweepy.Cursor(twee.search, q=data, count=100, lang='en').items():\n",
    "        print(i, end='\\r')\n",
    "        df.loc[i, 'Tweets'] = tweet.text\n",
    "        df.loc[i, 'User'] = tweet.user.name\n",
    "        df.loc[i, 'User_statuses_count'] = tweet.user.statuses_count\n",
    "        df.loc[i, 'user_followers'] = tweet.user.followers_count\n",
    "        df.loc[i, 'User_location'] = tweet.user.location\n",
    "        df.loc[i, 'User_verified'] = tweet.user.verified\n",
    "        df.loc[i, 'fav_count'] = tweet.favorite_count\n",
    "        df.loc[i, 'rt_count'] = tweet.retweet_count\n",
    "        df.loc[i, 'tweet_date'] = tweet.created_at\n",
    "        df.to_excel('{}.xlsx'.format(file_name))\n",
    "        i = i+1\n",
    "        if i == 1000:\n",
    "            break\n",
    "        else:\n",
    "            pass"
   ]
  },
  {
   "cell_type": "code",
   "execution_count": 17,
   "metadata": {},
   "outputs": [
    {
     "name": "stdout",
     "output_type": "stream",
     "text": [
      "553\r"
     ]
    }
   ],
   "source": [
    "stream(data=[\"RCB winning IPL\"] , file_name='my_tweets')"
   ]
  },
  {
   "cell_type": "code",
   "execution_count": 18,
   "metadata": {},
   "outputs": [
    {
     "data": {
      "text/html": [
       "<div>\n",
       "<style scoped>\n",
       "    .dataframe tbody tr th:only-of-type {\n",
       "        vertical-align: middle;\n",
       "    }\n",
       "\n",
       "    .dataframe tbody tr th {\n",
       "        vertical-align: top;\n",
       "    }\n",
       "\n",
       "    .dataframe thead th {\n",
       "        text-align: right;\n",
       "    }\n",
       "</style>\n",
       "<table border=\"1\" class=\"dataframe\">\n",
       "  <thead>\n",
       "    <tr style=\"text-align: right;\">\n",
       "      <th></th>\n",
       "      <th>Tweets</th>\n",
       "      <th>User</th>\n",
       "      <th>User_statuses_count</th>\n",
       "      <th>user_followers</th>\n",
       "      <th>User_location</th>\n",
       "      <th>User_verified</th>\n",
       "      <th>fav_count</th>\n",
       "      <th>rt_count</th>\n",
       "      <th>tweet_date</th>\n",
       "    </tr>\n",
       "  </thead>\n",
       "  <tbody>\n",
       "    <tr>\n",
       "      <th>0</th>\n",
       "      <td>IPL 2020, SRH Predicted XI vs RCB: Injury conc...</td>\n",
       "      <td>Hindustan Times</td>\n",
       "      <td>226277</td>\n",
       "      <td>26722</td>\n",
       "      <td>New Delhi, India</td>\n",
       "      <td>True</td>\n",
       "      <td>0</td>\n",
       "      <td>0</td>\n",
       "      <td>2020-10-31 05:42:18</td>\n",
       "    </tr>\n",
       "    <tr>\n",
       "      <th>1</th>\n",
       "      <td>@gm10_g @RCBTweets It's just because RCB was p...</td>\n",
       "      <td>Tan</td>\n",
       "      <td>121</td>\n",
       "      <td>0</td>\n",
       "      <td></td>\n",
       "      <td>False</td>\n",
       "      <td>3</td>\n",
       "      <td>0</td>\n",
       "      <td>2020-10-31 04:53:16</td>\n",
       "    </tr>\n",
       "    <tr>\n",
       "      <th>2</th>\n",
       "      <td>Bhai jabardasti script banake interesting bana...</td>\n",
       "      <td>💰</td>\n",
       "      <td>27104</td>\n",
       "      <td>6081</td>\n",
       "      <td>Mumbai, India</td>\n",
       "      <td>False</td>\n",
       "      <td>3</td>\n",
       "      <td>0</td>\n",
       "      <td>2020-10-31 04:21:02</td>\n",
       "    </tr>\n",
       "    <tr>\n",
       "      <th>3</th>\n",
       "      <td>@Its_SakshamR @jagan1302 @PravinG97539521 @BCC...</td>\n",
       "      <td>Abinesh Raj</td>\n",
       "      <td>67</td>\n",
       "      <td>3</td>\n",
       "      <td></td>\n",
       "      <td>False</td>\n",
       "      <td>0</td>\n",
       "      <td>0</td>\n",
       "      <td>2020-10-31 03:25:09</td>\n",
       "    </tr>\n",
       "    <tr>\n",
       "      <th>4</th>\n",
       "      <td>Today is Very Important Match @RCBTweets\\n\\nIf...</td>\n",
       "      <td>K. Star {Kamal} #PlayBold ❤🌸🌠♠</td>\n",
       "      <td>45012</td>\n",
       "      <td>2460</td>\n",
       "      <td></td>\n",
       "      <td>False</td>\n",
       "      <td>1</td>\n",
       "      <td>0</td>\n",
       "      <td>2020-10-31 03:21:53</td>\n",
       "    </tr>\n",
       "  </tbody>\n",
       "</table>\n",
       "</div>"
      ],
      "text/plain": [
       "                                              Tweets  \\\n",
       "0  IPL 2020, SRH Predicted XI vs RCB: Injury conc...   \n",
       "1  @gm10_g @RCBTweets It's just because RCB was p...   \n",
       "2  Bhai jabardasti script banake interesting bana...   \n",
       "3  @Its_SakshamR @jagan1302 @PravinG97539521 @BCC...   \n",
       "4  Today is Very Important Match @RCBTweets\\n\\nIf...   \n",
       "\n",
       "                             User User_statuses_count user_followers  \\\n",
       "0                 Hindustan Times              226277          26722   \n",
       "1                             Tan                 121              0   \n",
       "2                               💰               27104           6081   \n",
       "3                     Abinesh Raj                  67              3   \n",
       "4  K. Star {Kamal} #PlayBold ❤🌸🌠♠               45012           2460   \n",
       "\n",
       "      User_location User_verified fav_count rt_count           tweet_date  \n",
       "0  New Delhi, India          True         0        0  2020-10-31 05:42:18  \n",
       "1                           False         3        0  2020-10-31 04:53:16  \n",
       "2     Mumbai, India         False         3        0  2020-10-31 04:21:02  \n",
       "3                           False         0        0  2020-10-31 03:25:09  \n",
       "4                           False         1        0  2020-10-31 03:21:53  "
      ]
     },
     "execution_count": 18,
     "metadata": {},
     "output_type": "execute_result"
    }
   ],
   "source": [
    "df.head()"
   ]
  },
  {
   "cell_type": "code",
   "execution_count": 19,
   "metadata": {},
   "outputs": [],
   "source": [
    "from textblob import TextBlob"
   ]
  },
  {
   "cell_type": "code",
   "execution_count": 20,
   "metadata": {},
   "outputs": [],
   "source": [
    "import re\n",
    "def clean_tweet(tweet):\n",
    "    return ' '.join(re.sub('(@[A-Za-z0-9]+)|([^0-9A-Za-z \\t])|(\\w+:\\/\\/\\S+)', ' ', tweet).split())"
   ]
  },
  {
   "cell_type": "code",
   "execution_count": 21,
   "metadata": {},
   "outputs": [],
   "source": [
    "def analyze_sentiment(tweet):\n",
    "    analysis = TextBlob(tweet)\n",
    "    if analysis.sentiment.polarity > 0:\n",
    "        return 'Positive'\n",
    "    elif analysis.sentiment.polarity == 0:\n",
    "        return 'Neutral'\n",
    "    else:\n",
    "        return 'Negative'"
   ]
  },
  {
   "cell_type": "code",
   "execution_count": 22,
   "metadata": {},
   "outputs": [],
   "source": [
    "df['clean_tweet'] = df['Tweets'].apply(lambda x : clean_tweet(x))"
   ]
  },
  {
   "cell_type": "code",
   "execution_count": 23,
   "metadata": {},
   "outputs": [
    {
     "data": {
      "text/html": [
       "<div>\n",
       "<style scoped>\n",
       "    .dataframe tbody tr th:only-of-type {\n",
       "        vertical-align: middle;\n",
       "    }\n",
       "\n",
       "    .dataframe tbody tr th {\n",
       "        vertical-align: top;\n",
       "    }\n",
       "\n",
       "    .dataframe thead th {\n",
       "        text-align: right;\n",
       "    }\n",
       "</style>\n",
       "<table border=\"1\" class=\"dataframe\">\n",
       "  <thead>\n",
       "    <tr style=\"text-align: right;\">\n",
       "      <th></th>\n",
       "      <th>Tweets</th>\n",
       "      <th>User</th>\n",
       "      <th>User_statuses_count</th>\n",
       "      <th>user_followers</th>\n",
       "      <th>User_location</th>\n",
       "      <th>User_verified</th>\n",
       "      <th>fav_count</th>\n",
       "      <th>rt_count</th>\n",
       "      <th>tweet_date</th>\n",
       "      <th>clean_tweet</th>\n",
       "    </tr>\n",
       "  </thead>\n",
       "  <tbody>\n",
       "    <tr>\n",
       "      <th>0</th>\n",
       "      <td>IPL 2020, SRH Predicted XI vs RCB: Injury conc...</td>\n",
       "      <td>Hindustan Times</td>\n",
       "      <td>226277</td>\n",
       "      <td>26722</td>\n",
       "      <td>New Delhi, India</td>\n",
       "      <td>True</td>\n",
       "      <td>0</td>\n",
       "      <td>0</td>\n",
       "      <td>2020-10-31 05:42:18</td>\n",
       "      <td>IPL 2020 SRH Predicted XI vs RCB Injury concer...</td>\n",
       "    </tr>\n",
       "    <tr>\n",
       "      <th>1</th>\n",
       "      <td>@gm10_g @RCBTweets It's just because RCB was p...</td>\n",
       "      <td>Tan</td>\n",
       "      <td>121</td>\n",
       "      <td>0</td>\n",
       "      <td></td>\n",
       "      <td>False</td>\n",
       "      <td>3</td>\n",
       "      <td>0</td>\n",
       "      <td>2020-10-31 04:53:16</td>\n",
       "      <td>g It s just because RCB was playing good early...</td>\n",
       "    </tr>\n",
       "    <tr>\n",
       "      <th>2</th>\n",
       "      <td>Bhai jabardasti script banake interesting bana...</td>\n",
       "      <td>💰</td>\n",
       "      <td>27104</td>\n",
       "      <td>6081</td>\n",
       "      <td>Mumbai, India</td>\n",
       "      <td>False</td>\n",
       "      <td>3</td>\n",
       "      <td>0</td>\n",
       "      <td>2020-10-31 04:21:02</td>\n",
       "      <td>Bhai jabardasti script banake interesting bana...</td>\n",
       "    </tr>\n",
       "    <tr>\n",
       "      <th>3</th>\n",
       "      <td>@Its_SakshamR @jagan1302 @PravinG97539521 @BCC...</td>\n",
       "      <td>Abinesh Raj</td>\n",
       "      <td>67</td>\n",
       "      <td>3</td>\n",
       "      <td></td>\n",
       "      <td>False</td>\n",
       "      <td>0</td>\n",
       "      <td>0</td>\n",
       "      <td>2020-10-31 03:25:09</td>\n",
       "      <td>SakshamR Adaii fool the main reason for trolling</td>\n",
       "    </tr>\n",
       "    <tr>\n",
       "      <th>4</th>\n",
       "      <td>Today is Very Important Match @RCBTweets\\n\\nIf...</td>\n",
       "      <td>K. Star {Kamal} #PlayBold ❤🌸🌠♠</td>\n",
       "      <td>45012</td>\n",
       "      <td>2460</td>\n",
       "      <td></td>\n",
       "      <td>False</td>\n",
       "      <td>1</td>\n",
       "      <td>0</td>\n",
       "      <td>2020-10-31 03:21:53</td>\n",
       "      <td>Today is Very Important Match If We Are Winnin...</td>\n",
       "    </tr>\n",
       "  </tbody>\n",
       "</table>\n",
       "</div>"
      ],
      "text/plain": [
       "                                              Tweets  \\\n",
       "0  IPL 2020, SRH Predicted XI vs RCB: Injury conc...   \n",
       "1  @gm10_g @RCBTweets It's just because RCB was p...   \n",
       "2  Bhai jabardasti script banake interesting bana...   \n",
       "3  @Its_SakshamR @jagan1302 @PravinG97539521 @BCC...   \n",
       "4  Today is Very Important Match @RCBTweets\\n\\nIf...   \n",
       "\n",
       "                             User User_statuses_count user_followers  \\\n",
       "0                 Hindustan Times              226277          26722   \n",
       "1                             Tan                 121              0   \n",
       "2                               💰               27104           6081   \n",
       "3                     Abinesh Raj                  67              3   \n",
       "4  K. Star {Kamal} #PlayBold ❤🌸🌠♠               45012           2460   \n",
       "\n",
       "      User_location User_verified fav_count rt_count           tweet_date  \\\n",
       "0  New Delhi, India          True         0        0  2020-10-31 05:42:18   \n",
       "1                           False         3        0  2020-10-31 04:53:16   \n",
       "2     Mumbai, India         False         3        0  2020-10-31 04:21:02   \n",
       "3                           False         0        0  2020-10-31 03:25:09   \n",
       "4                           False         1        0  2020-10-31 03:21:53   \n",
       "\n",
       "                                         clean_tweet  \n",
       "0  IPL 2020 SRH Predicted XI vs RCB Injury concer...  \n",
       "1  g It s just because RCB was playing good early...  \n",
       "2  Bhai jabardasti script banake interesting bana...  \n",
       "3   SakshamR Adaii fool the main reason for trolling  \n",
       "4  Today is Very Important Match If We Are Winnin...  "
      ]
     },
     "execution_count": 23,
     "metadata": {},
     "output_type": "execute_result"
    }
   ],
   "source": [
    "df.head()"
   ]
  },
  {
   "cell_type": "code",
   "execution_count": 24,
   "metadata": {},
   "outputs": [
    {
     "data": {
      "text/html": [
       "<div>\n",
       "<style scoped>\n",
       "    .dataframe tbody tr th:only-of-type {\n",
       "        vertical-align: middle;\n",
       "    }\n",
       "\n",
       "    .dataframe tbody tr th {\n",
       "        vertical-align: top;\n",
       "    }\n",
       "\n",
       "    .dataframe thead th {\n",
       "        text-align: right;\n",
       "    }\n",
       "</style>\n",
       "<table border=\"1\" class=\"dataframe\">\n",
       "  <thead>\n",
       "    <tr style=\"text-align: right;\">\n",
       "      <th></th>\n",
       "      <th>Tweets</th>\n",
       "      <th>User</th>\n",
       "      <th>User_statuses_count</th>\n",
       "      <th>user_followers</th>\n",
       "      <th>User_location</th>\n",
       "      <th>User_verified</th>\n",
       "      <th>fav_count</th>\n",
       "      <th>rt_count</th>\n",
       "      <th>tweet_date</th>\n",
       "      <th>clean_tweet</th>\n",
       "      <th>Sentiment</th>\n",
       "    </tr>\n",
       "  </thead>\n",
       "  <tbody>\n",
       "    <tr>\n",
       "      <th>0</th>\n",
       "      <td>IPL 2020, SRH Predicted XI vs RCB: Injury conc...</td>\n",
       "      <td>Hindustan Times</td>\n",
       "      <td>226277</td>\n",
       "      <td>26722</td>\n",
       "      <td>New Delhi, India</td>\n",
       "      <td>True</td>\n",
       "      <td>0</td>\n",
       "      <td>0</td>\n",
       "      <td>2020-10-31 05:42:18</td>\n",
       "      <td>IPL 2020 SRH Predicted XI vs RCB Injury concer...</td>\n",
       "      <td>Positive</td>\n",
       "    </tr>\n",
       "    <tr>\n",
       "      <th>1</th>\n",
       "      <td>@gm10_g @RCBTweets It's just because RCB was p...</td>\n",
       "      <td>Tan</td>\n",
       "      <td>121</td>\n",
       "      <td>0</td>\n",
       "      <td></td>\n",
       "      <td>False</td>\n",
       "      <td>3</td>\n",
       "      <td>0</td>\n",
       "      <td>2020-10-31 04:53:16</td>\n",
       "      <td>g It s just because RCB was playing good early...</td>\n",
       "      <td>Positive</td>\n",
       "    </tr>\n",
       "    <tr>\n",
       "      <th>2</th>\n",
       "      <td>Bhai jabardasti script banake interesting bana...</td>\n",
       "      <td>💰</td>\n",
       "      <td>27104</td>\n",
       "      <td>6081</td>\n",
       "      <td>Mumbai, India</td>\n",
       "      <td>False</td>\n",
       "      <td>3</td>\n",
       "      <td>0</td>\n",
       "      <td>2020-10-31 04:21:02</td>\n",
       "      <td>Bhai jabardasti script banake interesting bana...</td>\n",
       "      <td>Positive</td>\n",
       "    </tr>\n",
       "    <tr>\n",
       "      <th>3</th>\n",
       "      <td>@Its_SakshamR @jagan1302 @PravinG97539521 @BCC...</td>\n",
       "      <td>Abinesh Raj</td>\n",
       "      <td>67</td>\n",
       "      <td>3</td>\n",
       "      <td></td>\n",
       "      <td>False</td>\n",
       "      <td>0</td>\n",
       "      <td>0</td>\n",
       "      <td>2020-10-31 03:25:09</td>\n",
       "      <td>SakshamR Adaii fool the main reason for trolling</td>\n",
       "      <td>Positive</td>\n",
       "    </tr>\n",
       "    <tr>\n",
       "      <th>4</th>\n",
       "      <td>Today is Very Important Match @RCBTweets\\n\\nIf...</td>\n",
       "      <td>K. Star {Kamal} #PlayBold ❤🌸🌠♠</td>\n",
       "      <td>45012</td>\n",
       "      <td>2460</td>\n",
       "      <td></td>\n",
       "      <td>False</td>\n",
       "      <td>1</td>\n",
       "      <td>0</td>\n",
       "      <td>2020-10-31 03:21:53</td>\n",
       "      <td>Today is Very Important Match If We Are Winnin...</td>\n",
       "      <td>Positive</td>\n",
       "    </tr>\n",
       "  </tbody>\n",
       "</table>\n",
       "</div>"
      ],
      "text/plain": [
       "                                              Tweets  \\\n",
       "0  IPL 2020, SRH Predicted XI vs RCB: Injury conc...   \n",
       "1  @gm10_g @RCBTweets It's just because RCB was p...   \n",
       "2  Bhai jabardasti script banake interesting bana...   \n",
       "3  @Its_SakshamR @jagan1302 @PravinG97539521 @BCC...   \n",
       "4  Today is Very Important Match @RCBTweets\\n\\nIf...   \n",
       "\n",
       "                             User User_statuses_count user_followers  \\\n",
       "0                 Hindustan Times              226277          26722   \n",
       "1                             Tan                 121              0   \n",
       "2                               💰               27104           6081   \n",
       "3                     Abinesh Raj                  67              3   \n",
       "4  K. Star {Kamal} #PlayBold ❤🌸🌠♠               45012           2460   \n",
       "\n",
       "      User_location User_verified fav_count rt_count           tweet_date  \\\n",
       "0  New Delhi, India          True         0        0  2020-10-31 05:42:18   \n",
       "1                           False         3        0  2020-10-31 04:53:16   \n",
       "2     Mumbai, India         False         3        0  2020-10-31 04:21:02   \n",
       "3                           False         0        0  2020-10-31 03:25:09   \n",
       "4                           False         1        0  2020-10-31 03:21:53   \n",
       "\n",
       "                                         clean_tweet Sentiment  \n",
       "0  IPL 2020 SRH Predicted XI vs RCB Injury concer...  Positive  \n",
       "1  g It s just because RCB was playing good early...  Positive  \n",
       "2  Bhai jabardasti script banake interesting bana...  Positive  \n",
       "3   SakshamR Adaii fool the main reason for trolling  Positive  \n",
       "4  Today is Very Important Match If We Are Winnin...  Positive  "
      ]
     },
     "execution_count": 24,
     "metadata": {},
     "output_type": "execute_result"
    }
   ],
   "source": [
    "df['Sentiment'] = df['clean_tweet'].apply(lambda x : analyze_sentiment(x) )\n",
    "df.head()"
   ]
  },
  {
   "cell_type": "code",
   "execution_count": 25,
   "metadata": {},
   "outputs": [
    {
     "name": "stdout",
     "output_type": "stream",
     "text": [
      "Original tweet:\n",
      " @gm10_g @RCBTweets It's just because RCB was playing good early in the tournament and they don't want to disturb wi… https://t.co/j4hCmUSRos\n",
      "\n",
      "Clean tweet:\n",
      " g It s just because RCB was playing good early in the tournament and they don t want to disturb wi\n",
      "\n",
      "Sentiment of the tweet:\n",
      " Positive\n"
     ]
    }
   ],
   "source": [
    "n = 1\n",
    "print(\"Original tweet:\\n\",df['Tweets'][n])\n",
    "print()\n",
    "print(\"Clean tweet:\\n\",df['clean_tweet'][n])\n",
    "print()\n",
    "print(\"Sentiment of the tweet:\\n\",df['Sentiment'][n])"
   ]
  },
  {
   "cell_type": "code",
   "execution_count": 27,
   "metadata": {},
   "outputs": [
    {
     "name": "stdout",
     "output_type": "stream",
     "text": [
      "Original tweet:\n",
      " @rcb_v5 Comparing 5 ICC events with 3 IPL seasons \n",
      "Wow nice 👍\n",
      "Playing cricket well all the years long, winning bila… https://t.co/mFRXZ7Pkwn\n",
      "\n",
      "Clean tweet:\n",
      " v5 Comparing 5 ICC events with 3 IPL seasons Wow nice Playing cricket well all the years long winning bila\n",
      "\n",
      "Sentiment of the tweet:\n",
      " Positive\n"
     ]
    }
   ],
   "source": [
    "n = 20\n",
    "print(\"Original tweet:\\n\",df['Tweets'][n])\n",
    "print()\n",
    "print(\"Clean tweet:\\n\",df['clean_tweet'][n])\n",
    "print()\n",
    "print(\"Sentiment of the tweet:\\n\",df['Sentiment'][n])"
   ]
  },
  {
   "cell_type": "code",
   "execution_count": 28,
   "metadata": {},
   "outputs": [
    {
     "name": "stdout",
     "output_type": "stream",
     "text": [
      "Original tweet:\n",
      " RT @Trendulkar: Rohit Sharma is not in the Australia tour squad. So he is out of the IPL too then? So RCB is winning the final against MI?…\n",
      "\n",
      "Clean tweet:\n",
      " RT Rohit Sharma is not in the Australia tour squad So he is out of the IPL too then So RCB is winning the final against MI\n",
      "\n",
      "Sentiment of the tweet:\n",
      " Positive\n"
     ]
    }
   ],
   "source": [
    "n = 203\n",
    "print(\"Original tweet:\\n\",df['Tweets'][n])\n",
    "print()\n",
    "print(\"Clean tweet:\\n\",df['clean_tweet'][n])\n",
    "print()\n",
    "print(\"Sentiment of the tweet:\\n\",df['Sentiment'][n])"
   ]
  },
  {
   "cell_type": "code",
   "execution_count": 29,
   "metadata": {},
   "outputs": [
    {
     "data": {
      "text/plain": [
       "506"
      ]
     },
     "execution_count": 29,
     "metadata": {},
     "output_type": "execute_result"
    }
   ],
   "source": [
    "df[df.Sentiment == 'Positive'].shape[0]"
   ]
  },
  {
   "cell_type": "code",
   "execution_count": 34,
   "metadata": {},
   "outputs": [
    {
     "data": {
      "text/plain": [
       "22"
      ]
     },
     "execution_count": 34,
     "metadata": {},
     "output_type": "execute_result"
    }
   ],
   "source": [
    "df[df.Sentiment == 'Neutral'].shape[0]"
   ]
  },
  {
   "cell_type": "code",
   "execution_count": 31,
   "metadata": {},
   "outputs": [
    {
     "data": {
      "text/plain": [
       "26"
      ]
     },
     "execution_count": 31,
     "metadata": {},
     "output_type": "execute_result"
    }
   ],
   "source": [
    "df[df.Sentiment == 'Negative'].shape[0]"
   ]
  },
  {
   "cell_type": "code",
   "execution_count": null,
   "metadata": {},
   "outputs": [],
   "source": []
  }
 ],
 "metadata": {
  "kernelspec": {
   "display_name": "Python 3",
   "language": "python",
   "name": "python3"
  },
  "language_info": {
   "codemirror_mode": {
    "name": "ipython",
    "version": 3
   },
   "file_extension": ".py",
   "mimetype": "text/x-python",
   "name": "python",
   "nbconvert_exporter": "python",
   "pygments_lexer": "ipython3",
   "version": "3.7.6"
  }
 },
 "nbformat": 4,
 "nbformat_minor": 4
}
